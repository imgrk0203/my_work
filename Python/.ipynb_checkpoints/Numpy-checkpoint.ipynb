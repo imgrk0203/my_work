{
 "cells": [
  {
   "cell_type": "code",
   "execution_count": 1,
   "id": "e614503f",
   "metadata": {},
   "outputs": [],
   "source": [
    "import numpy as np\n",
    "import datetime "
   ]
  },
  {
   "cell_type": "code",
   "execution_count": 2,
   "id": "86b5b2b1",
   "metadata": {},
   "outputs": [
    {
     "name": "stdout",
     "output_type": "stream",
     "text": [
      "1.21.5\n"
     ]
    }
   ],
   "source": [
    "print(np.__version__)\n",
    "\n",
    "#print(np.show_config())"
   ]
  },
  {
   "cell_type": "markdown",
   "id": "51bbcf79",
   "metadata": {},
   "source": [
    "#### Random sampling in numpy | randint() function\n",
    "\n",
    "https://www.geeksforgeeks.org/random-sampling-in-numpy-randint-function/?ref=lbp"
   ]
  },
  {
   "cell_type": "code",
   "execution_count": 3,
   "id": "f4b82524",
   "metadata": {},
   "outputs": [
    {
     "name": "stdout",
     "output_type": "stream",
     "text": [
      "Output 1D Array filled with random integers :  [0 2 0 1 0]\n"
     ]
    }
   ],
   "source": [
    "out_arr = np.random.randint(low = 0, high = 3, size = 5)\n",
    "\n",
    "print (\"Output 1D Array filled with random integers : \", out_arr) "
   ]
  },
  {
   "cell_type": "code",
   "execution_count": 4,
   "id": "d49e3b06",
   "metadata": {},
   "outputs": [
    {
     "name": "stdout",
     "output_type": "stream",
     "text": [
      "Output 2D Array filled with random integers :  [[2 2 3]\n",
      " [2 2 2]]\n"
     ]
    }
   ],
   "source": [
    "out_arr1 = np.random.randint(low = 2, high = 4, size =(2, 3))\n",
    "\n",
    "print (\"Output 2D Array filled with random integers : \", out_arr1)"
   ]
  },
  {
   "cell_type": "code",
   "execution_count": 5,
   "id": "b8e75e71",
   "metadata": {},
   "outputs": [
    {
     "name": "stdout",
     "output_type": "stream",
     "text": [
      "Output 3D Array filled with random integers : \n",
      "[[[9 8 6 4]\n",
      "  [2 6 3 4]\n",
      "  [2 6 8 8]]]\n"
     ]
    }
   ],
   "source": [
    "out_arr2 = np.random.randint(2, 10, (1, 3, 4))\n",
    "print (\"Output 3D Array filled with random integers : \")\n",
    "print(out_arr2)"
   ]
  },
  {
   "cell_type": "code",
   "execution_count": 6,
   "id": "c953ae1e",
   "metadata": {},
   "outputs": [
    {
     "data": {
      "text/plain": [
       "array([[49, 36, 85, 53, 89],\n",
       "       [80, 98, 96, 31, 15]])"
      ]
     },
     "execution_count": 6,
     "metadata": {},
     "output_type": "execute_result"
    }
   ],
   "source": [
    "np.random.randint(1,100,10).reshape(2,5)"
   ]
  },
  {
   "cell_type": "markdown",
   "id": "99fa9089",
   "metadata": {},
   "source": [
    "## NumPy Creating Array "
   ]
  },
  {
   "cell_type": "code",
   "execution_count": 7,
   "id": "cbb41d6e",
   "metadata": {},
   "outputs": [
    {
     "data": {
      "text/plain": [
       "array([1, 2, 3, 4, 5])"
      ]
     },
     "execution_count": 7,
     "metadata": {},
     "output_type": "execute_result"
    }
   ],
   "source": [
    "arr = np.array([1,2,3,4,5])\n",
    "arr"
   ]
  },
  {
   "cell_type": "code",
   "execution_count": 8,
   "id": "a8ca4d0d",
   "metadata": {},
   "outputs": [
    {
     "data": {
      "text/plain": [
       "dtype('int64')"
      ]
     },
     "execution_count": 8,
     "metadata": {},
     "output_type": "execute_result"
    }
   ],
   "source": [
    "arr.dtype"
   ]
  },
  {
   "cell_type": "code",
   "execution_count": 9,
   "id": "99845154",
   "metadata": {},
   "outputs": [
    {
     "data": {
      "text/plain": [
       "numpy.ndarray"
      ]
     },
     "execution_count": 9,
     "metadata": {},
     "output_type": "execute_result"
    }
   ],
   "source": [
    "# checking type\n",
    "type(arr)"
   ]
  },
  {
   "cell_type": "code",
   "execution_count": 10,
   "id": "6c6626dc",
   "metadata": {},
   "outputs": [
    {
     "data": {
      "text/plain": [
       "array([1, 2, 3, 4, 5])"
      ]
     },
     "execution_count": 10,
     "metadata": {},
     "output_type": "execute_result"
    }
   ],
   "source": [
    "arr1 = np.array((1,2,3,4,5))\n",
    "arr1"
   ]
  },
  {
   "cell_type": "code",
   "execution_count": 11,
   "id": "b03c2cd5",
   "metadata": {},
   "outputs": [
    {
     "data": {
      "text/plain": [
       "array(24)"
      ]
     },
     "execution_count": 11,
     "metadata": {},
     "output_type": "execute_result"
    }
   ],
   "source": [
    "zero_D_array = np.array(24)\n",
    "zero_D_array"
   ]
  },
  {
   "cell_type": "code",
   "execution_count": 12,
   "id": "51211988",
   "metadata": {},
   "outputs": [
    {
     "data": {
      "text/plain": [
       "array([1, 2, 3, 4])"
      ]
     },
     "execution_count": 12,
     "metadata": {},
     "output_type": "execute_result"
    }
   ],
   "source": [
    "one_D_array = np.array([1,2,3,4])\n",
    "one_D_array"
   ]
  },
  {
   "cell_type": "code",
   "execution_count": 13,
   "id": "16cd4ce3",
   "metadata": {},
   "outputs": [
    {
     "data": {
      "text/plain": [
       "array([[1, 2, 3],\n",
       "       [4, 5, 6]])"
      ]
     },
     "execution_count": 13,
     "metadata": {},
     "output_type": "execute_result"
    }
   ],
   "source": [
    "two_D_array = np.array([[1,2,3],[4,5,6]])\n",
    "two_D_array"
   ]
  },
  {
   "cell_type": "code",
   "execution_count": 14,
   "id": "16ea97a0",
   "metadata": {},
   "outputs": [
    {
     "data": {
      "text/plain": [
       "array([[[1, 2, 3],\n",
       "        [4, 5, 6]],\n",
       "\n",
       "       [[2, 3, 5],\n",
       "        [7, 3, 8]]])"
      ]
     },
     "execution_count": 14,
     "metadata": {},
     "output_type": "execute_result"
    }
   ],
   "source": [
    "three_D_array = np.array([[[1,2,3],[4,5,6,]], [[2,3,5],[7,3,8]]])\n",
    "three_D_array"
   ]
  },
  {
   "cell_type": "code",
   "execution_count": 15,
   "id": "631203c6",
   "metadata": {},
   "outputs": [
    {
     "name": "stdout",
     "output_type": "stream",
     "text": [
      "An array of 10 zeros:\n",
      "[0 0 0 0 0 0 0 0 0 0]\n",
      "An array of 10 ones:\n",
      "[1 1 1 1 1 1 1 1 1 1]\n",
      "An array of 10 fives:\n",
      "[7 7 7 7 7 7 7 7 7 7]\n"
     ]
    }
   ],
   "source": [
    "import numpy as np\n",
    "\n",
    "array=np.zeros(10, dtype=int)\n",
    "print(\"An array of 10 zeros:\")\n",
    "print(array)\n",
    "\n",
    "array=np.ones(10, dtype=int)\n",
    "print(\"An array of 10 ones:\")\n",
    "print(array)\n",
    "\n",
    "array=np.ones(10, dtype=int)*7\n",
    "print(\"An array of 10 fives:\")\n",
    "print(array)"
   ]
  },
  {
   "cell_type": "code",
   "execution_count": 16,
   "id": "4ae4a92e",
   "metadata": {},
   "outputs": [
    {
     "name": "stdout",
     "output_type": "stream",
     "text": [
      "3x3 matrix:\n",
      "[[1. 0. 0.]\n",
      " [0. 1. 0.]\n",
      " [0. 0. 1.]]\n"
     ]
    }
   ],
   "source": [
    "# Write a NumPy program to create a 3x3 identity matrix.\n",
    "\n",
    "array_2D = np.identity(3)\n",
    "\n",
    "print('3x3 matrix:')\n",
    "print(array_2D)"
   ]
  },
  {
   "cell_type": "code",
   "execution_count": 17,
   "id": "50511651",
   "metadata": {},
   "outputs": [
    {
     "data": {
      "text/plain": [
       "array([[1, 0, 0, 0],\n",
       "       [0, 1, 0, 0],\n",
       "       [0, 0, 1, 0],\n",
       "       [0, 0, 0, 1]])"
      ]
     },
     "execution_count": 17,
     "metadata": {},
     "output_type": "execute_result"
    }
   ],
   "source": [
    "np.identity(4, dtype=int)"
   ]
  },
  {
   "cell_type": "code",
   "execution_count": 18,
   "id": "b2838c50",
   "metadata": {},
   "outputs": [
    {
     "data": {
      "text/plain": [
       "array([[1., 0., 0., 0.],\n",
       "       [0., 1., 0., 0.],\n",
       "       [0., 0., 1., 0.],\n",
       "       [0., 0., 0., 1.]])"
      ]
     },
     "execution_count": 18,
     "metadata": {},
     "output_type": "execute_result"
    }
   ],
   "source": [
    "np.identity(4, dtype=float)"
   ]
  },
  {
   "cell_type": "markdown",
   "id": "2211c4c2",
   "metadata": {},
   "source": [
    "### Numpy Random"
   ]
  },
  {
   "cell_type": "code",
   "execution_count": 19,
   "id": "ab4eb246",
   "metadata": {},
   "outputs": [
    {
     "name": "stdout",
     "output_type": "stream",
     "text": [
      "Random number between 0 and 1:\n",
      "[-0.16681636]\n"
     ]
    }
   ],
   "source": [
    "# Write a NumPy program to generate a random number between 0 and 1.\n",
    "\n",
    "rand_num = np.random.normal(0,1,1)\n",
    "\n",
    "print(\"Random number between 0 and 1:\")\n",
    "print(rand_num)"
   ]
  },
  {
   "cell_type": "code",
   "execution_count": 20,
   "id": "2e5e518f",
   "metadata": {},
   "outputs": [
    {
     "data": {
      "text/plain": [
       "0.5526111144678958"
      ]
     },
     "execution_count": 20,
     "metadata": {},
     "output_type": "execute_result"
    }
   ],
   "source": [
    "np.random.normal(1,2)"
   ]
  },
  {
   "cell_type": "code",
   "execution_count": 21,
   "id": "e901c51b",
   "metadata": {},
   "outputs": [
    {
     "data": {
      "text/plain": [
       "2"
      ]
     },
     "execution_count": 21,
     "metadata": {},
     "output_type": "execute_result"
    }
   ],
   "source": [
    "from numpy import random\n",
    "\n",
    "random.randint(10)\n",
    "\n",
    "\n",
    "# or\n",
    "# np.random.randint(10)   #In this case we'll only import numpy, not random from numpy bcoz we using np.random"
   ]
  },
  {
   "cell_type": "code",
   "execution_count": 22,
   "id": "af2cff4e",
   "metadata": {},
   "outputs": [
    {
     "data": {
      "text/plain": [
       "0"
      ]
     },
     "execution_count": 22,
     "metadata": {},
     "output_type": "execute_result"
    }
   ],
   "source": [
    "np.random.randint(10)"
   ]
  },
  {
   "cell_type": "code",
   "execution_count": 23,
   "id": "7b006f88",
   "metadata": {},
   "outputs": [
    {
     "data": {
      "text/plain": [
       "array([0.72853184, 0.08173335, 0.75510819, 0.8671425 ])"
      ]
     },
     "execution_count": 23,
     "metadata": {},
     "output_type": "execute_result"
    }
   ],
   "source": [
    "np.random.rand(4)"
   ]
  },
  {
   "cell_type": "code",
   "execution_count": 24,
   "id": "657a41ef",
   "metadata": {},
   "outputs": [
    {
     "data": {
      "text/plain": [
       "array([-1.59190253,  0.86900171, -0.54693968,  0.49796374, -0.70845156,\n",
       "        0.13129763,  0.28015117,  0.61008793,  0.22769156,  0.5750804 ,\n",
       "        0.31570231, -0.719727  ,  0.82947236, -0.95269995,  0.52677436])"
      ]
     },
     "execution_count": 24,
     "metadata": {},
     "output_type": "execute_result"
    }
   ],
   "source": [
    "# Write a NumPy program to generate an array of 15 random numbers from a standard normal distribution.\n",
    "\n",
    "np.random.normal(0,1,15)"
   ]
  },
  {
   "cell_type": "code",
   "execution_count": 25,
   "id": "8cafe025",
   "metadata": {},
   "outputs": [
    {
     "data": {
      "text/plain": [
       "array([0.69797704, 0.5120734 , 0.14131778, 0.67839556, 0.38644221,\n",
       "       0.28408165, 0.82673016, 0.27511037, 0.69131088, 0.32164953,\n",
       "       0.85705364, 0.52913775, 0.97482649, 0.89681219, 0.21697898])"
      ]
     },
     "execution_count": 25,
     "metadata": {},
     "output_type": "execute_result"
    }
   ],
   "source": [
    "np.random.rand(15)"
   ]
  },
  {
   "cell_type": "code",
   "execution_count": null,
   "id": "88f9bb95",
   "metadata": {},
   "outputs": [],
   "source": []
  },
  {
   "cell_type": "code",
   "execution_count": null,
   "id": "8134c539",
   "metadata": {},
   "outputs": [],
   "source": []
  },
  {
   "cell_type": "markdown",
   "id": "2f7d4dbd",
   "metadata": {},
   "source": [
    "### NumPy arange(): How to Use np.arange()\n",
    "#### creating array using np.arange(start, stop, step):\n",
    "https://realpython.com/how-to-use-numpy-arange/#data-types-of-nparange"
   ]
  },
  {
   "cell_type": "code",
   "execution_count": 26,
   "id": "6a223bbe",
   "metadata": {},
   "outputs": [
    {
     "data": {
      "text/plain": [
       "array([1, 2, 3, 4, 5])"
      ]
     },
     "execution_count": 26,
     "metadata": {},
     "output_type": "execute_result"
    }
   ],
   "source": [
    "new_ar = np.arange(1,6)\n",
    "new_ar"
   ]
  },
  {
   "cell_type": "code",
   "execution_count": 27,
   "id": "db2487cb",
   "metadata": {},
   "outputs": [
    {
     "data": {
      "text/plain": [
       "array([0, 1, 2, 3, 4])"
      ]
     },
     "execution_count": 27,
     "metadata": {},
     "output_type": "execute_result"
    }
   ],
   "source": [
    "x = np.arange(5, dtype=int)\n",
    "x"
   ]
  },
  {
   "cell_type": "code",
   "execution_count": 28,
   "id": "0c0eb762",
   "metadata": {},
   "outputs": [
    {
     "data": {
      "text/plain": [
       "array([ 2,  6, 10, 14, 18])"
      ]
     },
     "execution_count": 28,
     "metadata": {},
     "output_type": "execute_result"
    }
   ],
   "source": [
    "np.arange(2,20,4)"
   ]
  },
  {
   "cell_type": "code",
   "execution_count": 29,
   "id": "770296df",
   "metadata": {},
   "outputs": [
    {
     "data": {
      "text/plain": [
       "array([1, 4, 7])"
      ]
     },
     "execution_count": 29,
     "metadata": {},
     "output_type": "execute_result"
    }
   ],
   "source": [
    "np.arange(start=1, stop=10, step=3)"
   ]
  },
  {
   "cell_type": "markdown",
   "id": "640555ad",
   "metadata": {},
   "source": [
    "##### Note: The single argument defines where the counting stops. The output array starts at 0 and has an increment of 1."
   ]
  },
  {
   "cell_type": "code",
   "execution_count": 30,
   "id": "a161620e",
   "metadata": {},
   "outputs": [
    {
     "data": {
      "text/plain": [
       "array([0, 1, 2, 3, 4, 5, 6, 7, 8, 9])"
      ]
     },
     "execution_count": 30,
     "metadata": {},
     "output_type": "execute_result"
    }
   ],
   "source": [
    "np.arange(10)                                     # Stop is 10, start is 0, and step is 1!"
   ]
  },
  {
   "cell_type": "code",
   "execution_count": 31,
   "id": "ac76d1ea",
   "metadata": {},
   "outputs": [
    {
     "data": {
      "text/plain": [
       "array([0, 1, 2, 3, 4, 5, 6, 7, 8, 9])"
      ]
     },
     "execution_count": 31,
     "metadata": {},
     "output_type": "execute_result"
    }
   ],
   "source": [
    "np.arange(stop=10)"
   ]
  },
  {
   "cell_type": "markdown",
   "id": "65c3166c",
   "metadata": {},
   "source": [
    "#### Providing Negative Arguments\n",
    "If you provide negative values for start or both start and stop, and have a positive step, then arange() will work the same way as with all positive arguments:"
   ]
  },
  {
   "cell_type": "code",
   "execution_count": 32,
   "id": "1b9ff33a",
   "metadata": {},
   "outputs": [
    {
     "data": {
      "text/plain": [
       "array([-5, -4, -3, -2])"
      ]
     },
     "execution_count": 32,
     "metadata": {},
     "output_type": "execute_result"
    }
   ],
   "source": [
    "np.arange(-5, -1)"
   ]
  },
  {
   "cell_type": "code",
   "execution_count": 33,
   "id": "686d2e98",
   "metadata": {},
   "outputs": [
    {
     "data": {
      "text/plain": [
       "array([-8, -6, -4])"
      ]
     },
     "execution_count": 33,
     "metadata": {},
     "output_type": "execute_result"
    }
   ],
   "source": [
    "np.arange(-8, -2, 2)"
   ]
  },
  {
   "cell_type": "code",
   "execution_count": 34,
   "id": "5579a0ec",
   "metadata": {},
   "outputs": [
    {
     "data": {
      "text/plain": [
       "array([-5, -1,  3])"
      ]
     },
     "execution_count": 34,
     "metadata": {},
     "output_type": "execute_result"
    }
   ],
   "source": [
    "np.arange(-5, 6, 4)"
   ]
  },
  {
   "cell_type": "code",
   "execution_count": 35,
   "id": "34a24ec0",
   "metadata": {},
   "outputs": [
    {
     "data": {
      "text/plain": [
       "array([-4, -3, -2, -1,  0])"
      ]
     },
     "execution_count": 35,
     "metadata": {},
     "output_type": "execute_result"
    }
   ],
   "source": [
    "np.arange(-4,1)"
   ]
  },
  {
   "cell_type": "code",
   "execution_count": 36,
   "id": "607f0231",
   "metadata": {},
   "outputs": [
    {
     "data": {
      "text/plain": [
       "array([1, 2, 3, 4, 5])"
      ]
     },
     "execution_count": 36,
     "metadata": {},
     "output_type": "execute_result"
    }
   ],
   "source": [
    "new_ar"
   ]
  },
  {
   "cell_type": "code",
   "execution_count": 37,
   "id": "d58df64b",
   "metadata": {},
   "outputs": [
    {
     "data": {
      "text/plain": [
       "dtype('int64')"
      ]
     },
     "execution_count": 37,
     "metadata": {},
     "output_type": "execute_result"
    }
   ],
   "source": [
    "new_ar.dtype"
   ]
  },
  {
   "cell_type": "code",
   "execution_count": 38,
   "id": "6fb3e509",
   "metadata": {},
   "outputs": [
    {
     "data": {
      "text/plain": [
       "dtype('int64')"
      ]
     },
     "execution_count": 38,
     "metadata": {},
     "output_type": "execute_result"
    }
   ],
   "source": [
    "x.dtype"
   ]
  },
  {
   "cell_type": "code",
   "execution_count": 39,
   "id": "94c32f9f",
   "metadata": {},
   "outputs": [
    {
     "name": "stdout",
     "output_type": "stream",
     "text": [
      "Original vector:\n",
      "[15 16 17 18 19 20 21 22 23 24 25 26 27 28 29 30 31 32 33 34 35 36 37 38\n",
      " 39 40 41 42 43 44 45 46 47 48 49 50 51 52 53 54]\n",
      "All values except the first and last of the said vector:\n",
      "[16 17 18 19 20 21 22 23 24 25 26 27 28 29 30 31 32 33 34 35 36 37 38 39\n",
      " 40 41 42 43 44 45 46 47 48 49 50 51 52 53]\n"
     ]
    }
   ],
   "source": [
    "# Write a NumPy program to create a vector with values ​​ranging from 15 to 55 and print all values ​​except the first and last.\n",
    "\n",
    "v = np.arange(15,55)\n",
    "print(\"Original vector:\")\n",
    "print(v)\n",
    "print(\"All values except the first and last of the said vector:\")\n",
    "print(v[1:-1])"
   ]
  },
  {
   "cell_type": "code",
   "execution_count": 40,
   "id": "fbc3c51e",
   "metadata": {},
   "outputs": [
    {
     "name": "stdout",
     "output_type": "stream",
     "text": [
      "original array:\n",
      "[ 1  2  3  4  5  6  7  8  9 10 11 12]\n",
      "3x4 array:\n",
      "[[ 1  2  3  4]\n",
      " [ 5  6  7  8]\n",
      " [ 9 10 11 12]] \n",
      "\n",
      " [[ 1  2  3]\n",
      " [ 4  5  6]\n",
      " [ 7  8  9]\n",
      " [10 11 12]]\n",
      "normal Iterating: [1 2 3 4]\n",
      "normal Iterating: [5 6 7 8]\n",
      "normal Iterating: [ 9 10 11 12]\n",
      "Iterate on each scalar element of the 2-D array:\n",
      "1\n",
      "2\n",
      "3\n",
      "4\n",
      "5\n",
      "6\n",
      "7\n",
      "8\n",
      "9\n",
      "10\n",
      "11\n",
      "12\n"
     ]
    }
   ],
   "source": [
    "# Write a NumPy program to create a 3X4 array using arange() and iterate over it.\n",
    "\n",
    "x = np.arange(1,13,1)\n",
    "print(\"original array:\")\n",
    "print(x)\n",
    "\n",
    "new_x = x.reshape(3,4)\n",
    "new_xx = x.reshape(4,3)\n",
    "print(\"3x4 array:\")\n",
    "print(new_x ,\"\\n\\n\", new_xx)\n",
    "\n",
    "\n",
    "for i in new_x:\n",
    "    print(\"normal Iterating:\",i)    \n",
    "\n",
    "print(\"Iterate on each scalar element of the 2-D array:\")    \n",
    "for i in new_x:\n",
    "    for j in i:\n",
    "        print(j)"
   ]
  },
  {
   "cell_type": "code",
   "execution_count": 41,
   "id": "2074eeff",
   "metadata": {},
   "outputs": [
    {
     "name": "stdout",
     "output_type": "stream",
     "text": [
      "A\n",
      "k\n",
      "a\n",
      "s\n",
      "h\n"
     ]
    }
   ],
   "source": [
    "name = 'Akash'\n",
    "\n",
    "for x in name:\n",
    "    print(x)"
   ]
  },
  {
   "cell_type": "code",
   "execution_count": 42,
   "id": "0b1c257d",
   "metadata": {},
   "outputs": [
    {
     "data": {
      "text/plain": [
       "dtype('int64')"
      ]
     },
     "execution_count": 42,
     "metadata": {},
     "output_type": "execute_result"
    }
   ],
   "source": [
    "new_x.dtype"
   ]
  },
  {
   "cell_type": "code",
   "execution_count": 43,
   "id": "123169bc",
   "metadata": {},
   "outputs": [
    {
     "data": {
      "text/plain": [
       "numpy.ndarray"
      ]
     },
     "execution_count": 43,
     "metadata": {},
     "output_type": "execute_result"
    }
   ],
   "source": [
    "type(new_x)"
   ]
  },
  {
   "cell_type": "code",
   "execution_count": 44,
   "id": "4ec9b41f",
   "metadata": {},
   "outputs": [
    {
     "data": {
      "text/plain": [
       "2"
      ]
     },
     "execution_count": 44,
     "metadata": {},
     "output_type": "execute_result"
    }
   ],
   "source": [
    "new_x.ndim"
   ]
  },
  {
   "cell_type": "code",
   "execution_count": 45,
   "id": "b646bfb1",
   "metadata": {},
   "outputs": [
    {
     "data": {
      "text/plain": [
       "(3, 4)"
      ]
     },
     "execution_count": 45,
     "metadata": {},
     "output_type": "execute_result"
    }
   ],
   "source": [
    "new_x.shape"
   ]
  },
  {
   "cell_type": "code",
   "execution_count": 46,
   "id": "0b51d52a",
   "metadata": {},
   "outputs": [
    {
     "data": {
      "text/plain": [
       "array([10.  , 19.75, 29.5 , 39.25, 49.  ])"
      ]
     },
     "execution_count": 46,
     "metadata": {},
     "output_type": "execute_result"
    }
   ],
   "source": [
    "# Write a NumPy program to create a vector of length 5 with values evenly distributed between 10 and 50.\n",
    "\n",
    "np.linspace(10,49,5)"
   ]
  },
  {
   "cell_type": "code",
   "execution_count": 47,
   "id": "eb8fc26d",
   "metadata": {},
   "outputs": [
    {
     "data": {
      "text/plain": [
       "9.75"
      ]
     },
     "execution_count": 47,
     "metadata": {},
     "output_type": "execute_result"
    }
   ],
   "source": [
    "19.75 - 10"
   ]
  },
  {
   "cell_type": "code",
   "execution_count": 48,
   "id": "51c48902",
   "metadata": {},
   "outputs": [
    {
     "data": {
      "text/plain": [
       "9.75"
      ]
     },
     "execution_count": 48,
     "metadata": {},
     "output_type": "execute_result"
    }
   ],
   "source": [
    "29.5 - 19.75"
   ]
  },
  {
   "cell_type": "code",
   "execution_count": 49,
   "id": "25898d0e",
   "metadata": {},
   "outputs": [
    {
     "data": {
      "text/plain": [
       "array([10.  , 19.75, 29.5 , 39.25, 49.  ])"
      ]
     },
     "execution_count": 49,
     "metadata": {},
     "output_type": "execute_result"
    }
   ],
   "source": [
    "# alternative for above\n",
    "np.arange(10,50,9.75)"
   ]
  },
  {
   "cell_type": "code",
   "execution_count": 50,
   "id": "3a8aebbc",
   "metadata": {},
   "outputs": [
    {
     "data": {
      "text/plain": [
       "array([ 5, 10, 15, 20, 25, 30, 35, 40, 45])"
      ]
     },
     "execution_count": 50,
     "metadata": {},
     "output_type": "execute_result"
    }
   ],
   "source": [
    "np.arange(5,50,5)"
   ]
  },
  {
   "cell_type": "code",
   "execution_count": null,
   "id": "649e0941",
   "metadata": {},
   "outputs": [],
   "source": []
  },
  {
   "cell_type": "code",
   "execution_count": null,
   "id": "24d18b81",
   "metadata": {},
   "outputs": [],
   "source": []
  },
  {
   "cell_type": "code",
   "execution_count": 51,
   "id": "c484fa87",
   "metadata": {},
   "outputs": [
    {
     "name": "stdout",
     "output_type": "stream",
     "text": [
      "0\n",
      "1\n",
      "2\n",
      "3\n"
     ]
    }
   ],
   "source": [
    "# Check how many dimensions the arrays have:\n",
    "a = np.array(42)\n",
    "b = np.array([1, 2, 3, 4, 5])\n",
    "c = np.array([[1, 2, 3], [4, 5, 6]])\n",
    "d = np.array([[[1, 2, 3], [4, 5, 6]], [[11, 12, 13], [14, 15, 16]]])\n",
    "\n",
    "print(a.ndim)\n",
    "print(b.ndim)\n",
    "print(c.ndim)\n",
    "print(d.ndim)"
   ]
  },
  {
   "cell_type": "code",
   "execution_count": 52,
   "id": "29f721b1",
   "metadata": {},
   "outputs": [
    {
     "name": "stdout",
     "output_type": "stream",
     "text": [
      "[[[[[1 2 3 4]]]]]\n",
      "number of dimensions : 5\n"
     ]
    }
   ],
   "source": [
    "#Create an array with 5 dimensions and verify that it has 5 dimensions:\n",
    "\n",
    "arr5 = np.array([1, 2, 3, 4], ndmin=5)\n",
    "\n",
    "print(arr5)\n",
    "print('number of dimensions :', arr5.ndim)"
   ]
  },
  {
   "cell_type": "markdown",
   "id": "67db21c2",
   "metadata": {},
   "source": [
    "## NumPy Array Indexing"
   ]
  },
  {
   "cell_type": "markdown",
   "id": "973a02ff",
   "metadata": {},
   "source": [
    "### Access 1-D Arrays"
   ]
  },
  {
   "cell_type": "code",
   "execution_count": 53,
   "id": "c5c81fdd",
   "metadata": {},
   "outputs": [
    {
     "data": {
      "text/plain": [
       "array([1, 2, 3, 4, 5])"
      ]
     },
     "execution_count": 53,
     "metadata": {},
     "output_type": "execute_result"
    }
   ],
   "source": [
    "b"
   ]
  },
  {
   "cell_type": "code",
   "execution_count": 54,
   "id": "9db22b01",
   "metadata": {},
   "outputs": [
    {
     "data": {
      "text/plain": [
       "1"
      ]
     },
     "execution_count": 54,
     "metadata": {},
     "output_type": "execute_result"
    }
   ],
   "source": [
    "b[0]"
   ]
  },
  {
   "cell_type": "code",
   "execution_count": 55,
   "id": "36d6c52f",
   "metadata": {},
   "outputs": [
    {
     "data": {
      "text/plain": [
       "array([1, 2, 3])"
      ]
     },
     "execution_count": 55,
     "metadata": {},
     "output_type": "execute_result"
    }
   ],
   "source": [
    "b[0:3]"
   ]
  },
  {
   "cell_type": "code",
   "execution_count": 56,
   "id": "5abd7a84",
   "metadata": {},
   "outputs": [
    {
     "data": {
      "text/plain": [
       "array([1, 3])"
      ]
     },
     "execution_count": 56,
     "metadata": {},
     "output_type": "execute_result"
    }
   ],
   "source": [
    "b[0:4:2]"
   ]
  },
  {
   "cell_type": "code",
   "execution_count": 83,
   "id": "b0588dac",
   "metadata": {},
   "outputs": [
    {
     "data": {
      "text/plain": [
       "array([1, 3, 5])"
      ]
     },
     "execution_count": 83,
     "metadata": {},
     "output_type": "execute_result"
    }
   ],
   "source": [
    "b[0:6:2]"
   ]
  },
  {
   "cell_type": "code",
   "execution_count": 86,
   "id": "eddb0ca0",
   "metadata": {},
   "outputs": [
    {
     "data": {
      "text/plain": [
       "5"
      ]
     },
     "execution_count": 86,
     "metadata": {},
     "output_type": "execute_result"
    }
   ],
   "source": [
    "b[-1]"
   ]
  },
  {
   "cell_type": "code",
   "execution_count": 87,
   "id": "d3a3e28a",
   "metadata": {},
   "outputs": [
    {
     "data": {
      "text/plain": [
       "array([3, 4])"
      ]
     },
     "execution_count": 87,
     "metadata": {},
     "output_type": "execute_result"
    }
   ],
   "source": [
    "b[-3:-1]"
   ]
  },
  {
   "cell_type": "markdown",
   "id": "07dba5d6",
   "metadata": {},
   "source": [
    "### Access 2-D Arrays"
   ]
  },
  {
   "cell_type": "code",
   "execution_count": 59,
   "id": "5de0205f",
   "metadata": {},
   "outputs": [
    {
     "data": {
      "text/plain": [
       "array([[1, 2, 3],\n",
       "       [4, 5, 6]])"
      ]
     },
     "execution_count": 59,
     "metadata": {},
     "output_type": "execute_result"
    }
   ],
   "source": [
    "c"
   ]
  },
  {
   "cell_type": "code",
   "execution_count": 60,
   "id": "07529224",
   "metadata": {},
   "outputs": [
    {
     "data": {
      "text/plain": [
       "2"
      ]
     },
     "execution_count": 60,
     "metadata": {},
     "output_type": "execute_result"
    }
   ],
   "source": [
    "c[0,1]"
   ]
  },
  {
   "cell_type": "code",
   "execution_count": 61,
   "id": "284b710c",
   "metadata": {},
   "outputs": [
    {
     "data": {
      "text/plain": [
       "6"
      ]
     },
     "execution_count": 61,
     "metadata": {},
     "output_type": "execute_result"
    }
   ],
   "source": [
    "c[1,2]"
   ]
  },
  {
   "cell_type": "markdown",
   "id": "78315d28",
   "metadata": {},
   "source": [
    "### Access 3-D Arrays"
   ]
  },
  {
   "cell_type": "code",
   "execution_count": 62,
   "id": "f2ead0a4",
   "metadata": {},
   "outputs": [
    {
     "data": {
      "text/plain": [
       "array([[[ 1,  2,  3],\n",
       "        [ 4,  5,  6]],\n",
       "\n",
       "       [[11, 12, 13],\n",
       "        [14, 15, 16]]])"
      ]
     },
     "execution_count": 62,
     "metadata": {},
     "output_type": "execute_result"
    }
   ],
   "source": [
    "d"
   ]
  },
  {
   "cell_type": "code",
   "execution_count": 63,
   "id": "80b4b3fe",
   "metadata": {},
   "outputs": [
    {
     "data": {
      "text/plain": [
       "15"
      ]
     },
     "execution_count": 63,
     "metadata": {},
     "output_type": "execute_result"
    }
   ],
   "source": [
    "d[1,1,1]"
   ]
  },
  {
   "cell_type": "code",
   "execution_count": 64,
   "id": "0c8a3083",
   "metadata": {},
   "outputs": [
    {
     "data": {
      "text/plain": [
       "13"
      ]
     },
     "execution_count": 64,
     "metadata": {},
     "output_type": "execute_result"
    }
   ],
   "source": [
    "d[1,0,2]"
   ]
  },
  {
   "cell_type": "code",
   "execution_count": 65,
   "id": "ed041555",
   "metadata": {},
   "outputs": [
    {
     "data": {
      "text/plain": [
       "13"
      ]
     },
     "execution_count": 65,
     "metadata": {},
     "output_type": "execute_result"
    }
   ],
   "source": [
    "# negative indexing\n",
    "d[1,0,-1]"
   ]
  },
  {
   "cell_type": "markdown",
   "id": "07259210",
   "metadata": {},
   "source": [
    "## NumPy Array Slicing\n",
    "Slicing in python means taking elements from one given index to another given index.\n",
    "\n",
    "We pass slice instead of index like this: [start:end].\n",
    "\n",
    "We can also define the step, like this: [start:end:step].\n",
    "\n",
    "\n",
    "https://www.w3schools.com/python/numpy/numpy_array_slicing.asp"
   ]
  },
  {
   "cell_type": "code",
   "execution_count": 66,
   "id": "bc5aa2cd",
   "metadata": {},
   "outputs": [
    {
     "name": "stdout",
     "output_type": "stream",
     "text": [
      "[2 3 4 5]\n",
      "[2 4]\n",
      "[5 6 7]\n",
      "[1 2 3 4]\n",
      "[5 6]\n",
      "[1 3 5 7]\n"
     ]
    }
   ],
   "source": [
    "arr = np.array([1, 2, 3, 4, 5, 6, 7])\n",
    "\n",
    "print(arr[1:5])\n",
    "print(arr[1:5:2])\n",
    "print(arr[4:])\n",
    "print(arr[:4])\n",
    "print(arr[-3:-1])\n",
    "print(arr[::2])"
   ]
  },
  {
   "cell_type": "markdown",
   "id": "da3a7817",
   "metadata": {},
   "source": [
    "#### Slicing 2-D Arrays"
   ]
  },
  {
   "cell_type": "code",
   "execution_count": 67,
   "id": "cd0007b7",
   "metadata": {},
   "outputs": [
    {
     "name": "stdout",
     "output_type": "stream",
     "text": [
      "[7 8 9]\n",
      "[3 8]\n",
      "[[2 3 4]\n",
      " [7 8 9]]\n"
     ]
    }
   ],
   "source": [
    "# Example\n",
    "# From the second element, slice elements from index 1 to index 4 (not included):\n",
    "\n",
    "arr = np.array([[1, 2, 3, 4, 5], [6, 7, 8, 9, 10]])\n",
    "\n",
    "print(arr[1, 1:4])\n",
    "print(arr[0:2, 2])\n",
    "print(arr[0:2, 1:4])"
   ]
  },
  {
   "cell_type": "markdown",
   "id": "1df6a9ec",
   "metadata": {},
   "source": [
    "## NumPy Data Types\n",
    "### Data Types in NumPy\n",
    "NumPy has some extra data types, and refer to data types with one character, like i for integers, u for unsigned integers etc.\n",
    "\n",
    "Below is a list of all data types in NumPy and the characters used to represent them.\n",
    "\n",
    "i - integer\\\n",
    "b - boolean\\\n",
    "u - unsigned integer\\\n",
    "f - float\\\n",
    "c - complex float\\\n",
    "m - timedelta\\\n",
    "M - datetime\\\n",
    "O - object\\\n",
    "S - string\\\n",
    "U - unicode string\\\n",
    "V - fixed chunk of memory for other type ( void )\n"
   ]
  },
  {
   "cell_type": "markdown",
   "id": "69a34516",
   "metadata": {},
   "source": [
    "### Checking the Data Type of an Array\n",
    "The NumPy array object has a property called dtype that returns the data type of the array:\n",
    "\n"
   ]
  },
  {
   "cell_type": "code",
   "execution_count": 68,
   "id": "1ecee3ff",
   "metadata": {},
   "outputs": [
    {
     "name": "stdout",
     "output_type": "stream",
     "text": [
      "int64\n",
      "<U6\n"
     ]
    }
   ],
   "source": [
    "arr = np.array([1, 2, 3, 4])\n",
    "print(arr.dtype)\n",
    "\n",
    "arr = np.array(['apple', 'banana', 'cherry'])\n",
    "print(arr.dtype)"
   ]
  },
  {
   "cell_type": "markdown",
   "id": "4edcbcb0",
   "metadata": {},
   "source": [
    "#### Creating Arrays With a Defined Data Type\n",
    "We use the array() function to create arrays, this function can take an optional argument: dtype that allows us to define the expected data type of the array elements:\n",
    "\n"
   ]
  },
  {
   "cell_type": "code",
   "execution_count": 88,
   "id": "d70f52f9",
   "metadata": {},
   "outputs": [
    {
     "name": "stdout",
     "output_type": "stream",
     "text": [
      "[1 2 3 4]\n",
      "int64\n"
     ]
    }
   ],
   "source": [
    "arr = np.array([1, 2, 3, 4])\n",
    "\n",
    "print(arr)\n",
    "print(arr.dtype)"
   ]
  },
  {
   "cell_type": "code",
   "execution_count": 89,
   "id": "9be6c97b",
   "metadata": {},
   "outputs": [
    {
     "name": "stdout",
     "output_type": "stream",
     "text": [
      "[b'1' b'2' b'3' b'4']\n",
      "|S1\n"
     ]
    }
   ],
   "source": [
    "arr = np.array([1, 2, 3, 4],dtype='S')\n",
    "\n",
    "print(arr)\n",
    "print(arr.dtype)\n"
   ]
  },
  {
   "cell_type": "markdown",
   "id": "4adde7fb",
   "metadata": {},
   "source": [
    "##### For i, u, f, S and U we can define size as well.\n"
   ]
  },
  {
   "cell_type": "code",
   "execution_count": 93,
   "id": "e502dc6b",
   "metadata": {},
   "outputs": [
    {
     "name": "stdout",
     "output_type": "stream",
     "text": [
      "[1 2 3 4]\n",
      "int32\n"
     ]
    }
   ],
   "source": [
    "# Create an array with data type 4 bytes integer:\n",
    "\n",
    "arr = np.array([1, 2, 3, 4], dtype='i4')\n",
    "print(arr)\n",
    "print(arr.dtype)"
   ]
  },
  {
   "cell_type": "code",
   "execution_count": null,
   "id": "acfa6a03",
   "metadata": {},
   "outputs": [],
   "source": []
  },
  {
   "cell_type": "code",
   "execution_count": null,
   "id": "a5d2f1be",
   "metadata": {},
   "outputs": [],
   "source": []
  },
  {
   "cell_type": "code",
   "execution_count": null,
   "id": "78aeb5f4",
   "metadata": {},
   "outputs": [],
   "source": []
  },
  {
   "cell_type": "markdown",
   "id": "3f7a8c13",
   "metadata": {},
   "source": [
    "# 26 Nov 2022 - Practice"
   ]
  },
  {
   "cell_type": "code",
   "execution_count": 94,
   "id": "caa3ab66",
   "metadata": {},
   "outputs": [
    {
     "data": {
      "text/plain": [
       "numpy.datetime64('2023-02-04T19:04:54')"
      ]
     },
     "execution_count": 94,
     "metadata": {},
     "output_type": "execute_result"
    }
   ],
   "source": [
    "today = np.datetime64('now')\n",
    "today"
   ]
  },
  {
   "cell_type": "code",
   "execution_count": 95,
   "id": "ade1165b",
   "metadata": {},
   "outputs": [
    {
     "data": {
      "text/plain": [
       "numpy.datetime64('2023-02-05T00:35:07.923274')"
      ]
     },
     "execution_count": 95,
     "metadata": {},
     "output_type": "execute_result"
    }
   ],
   "source": [
    "current = np.datetime64(datetime.datetime.now())\n",
    "current"
   ]
  },
  {
   "cell_type": "code",
   "execution_count": 96,
   "id": "c4644dcc",
   "metadata": {},
   "outputs": [
    {
     "data": {
      "text/plain": [
       "datetime.datetime(2023, 2, 5, 0, 35, 34, 217749)"
      ]
     },
     "execution_count": 96,
     "metadata": {},
     "output_type": "execute_result"
    }
   ],
   "source": [
    "datetime.datetime.now()"
   ]
  },
  {
   "cell_type": "code",
   "execution_count": 74,
   "id": "aaaac8e1",
   "metadata": {},
   "outputs": [
    {
     "data": {
      "text/plain": [
       "array([65, 54, 46, 70, 55, 45, 75])"
      ]
     },
     "execution_count": 74,
     "metadata": {},
     "output_type": "execute_result"
    }
   ],
   "source": [
    "age = np.array([65,54,46,70,55,45,75])\n",
    "age"
   ]
  },
  {
   "cell_type": "code",
   "execution_count": 75,
   "id": "59e45d16",
   "metadata": {},
   "outputs": [
    {
     "data": {
      "text/plain": [
       "numpy.ndarray"
      ]
     },
     "execution_count": 75,
     "metadata": {},
     "output_type": "execute_result"
    }
   ],
   "source": [
    "type(age)"
   ]
  },
  {
   "cell_type": "code",
   "execution_count": 76,
   "id": "55ae6534",
   "metadata": {},
   "outputs": [
    {
     "data": {
      "text/plain": [
       "dtype('int64')"
      ]
     },
     "execution_count": 76,
     "metadata": {},
     "output_type": "execute_result"
    }
   ],
   "source": [
    "age.dtype"
   ]
  },
  {
   "cell_type": "code",
   "execution_count": 77,
   "id": "ac51ae7d",
   "metadata": {},
   "outputs": [
    {
     "data": {
      "text/plain": [
       "58.57142857142857"
      ]
     },
     "execution_count": 77,
     "metadata": {},
     "output_type": "execute_result"
    }
   ],
   "source": [
    "age.mean()"
   ]
  },
  {
   "cell_type": "code",
   "execution_count": 78,
   "id": "45311c42",
   "metadata": {},
   "outputs": [
    {
     "data": {
      "text/plain": [
       "58.57142857142857"
      ]
     },
     "execution_count": 78,
     "metadata": {},
     "output_type": "execute_result"
    }
   ],
   "source": [
    "mean = np.mean(age)\n",
    "mean"
   ]
  },
  {
   "cell_type": "code",
   "execution_count": 79,
   "id": "72240c99",
   "metadata": {},
   "outputs": [
    {
     "data": {
      "text/plain": [
       "55.0"
      ]
     },
     "execution_count": 79,
     "metadata": {},
     "output_type": "execute_result"
    }
   ],
   "source": [
    "median = np.median(age)\n",
    "median"
   ]
  },
  {
   "cell_type": "code",
   "execution_count": 80,
   "id": "5a04f841",
   "metadata": {},
   "outputs": [
    {
     "data": {
      "text/plain": [
       "ModeResult(mode=array([45]), count=array([1]))"
      ]
     },
     "execution_count": 80,
     "metadata": {},
     "output_type": "execute_result"
    }
   ],
   "source": [
    "from scipy import stats\n",
    " \n",
    "mode = stats.mode(age)\n",
    "mode"
   ]
  },
  {
   "cell_type": "code",
   "execution_count": 97,
   "id": "682dd06d",
   "metadata": {},
   "outputs": [
    {
     "data": {
      "text/plain": [
       "3.141592653589793"
      ]
     },
     "execution_count": 97,
     "metadata": {},
     "output_type": "execute_result"
    }
   ],
   "source": [
    "from scipy import constants\n",
    "\n",
    "constants.pi"
   ]
  },
  {
   "cell_type": "code",
   "execution_count": 98,
   "id": "a4bb3fe8",
   "metadata": {},
   "outputs": [
    {
     "data": {
      "text/plain": [
       "3.141592653589793"
      ]
     },
     "execution_count": 98,
     "metadata": {},
     "output_type": "execute_result"
    }
   ],
   "source": [
    "import scipy.constants as cs\n",
    "\n",
    "cs.pi"
   ]
  },
  {
   "cell_type": "code",
   "execution_count": null,
   "id": "f3966563",
   "metadata": {},
   "outputs": [],
   "source": []
  },
  {
   "cell_type": "code",
   "execution_count": null,
   "id": "5d15c8e8",
   "metadata": {},
   "outputs": [],
   "source": []
  },
  {
   "cell_type": "code",
   "execution_count": null,
   "id": "72a99bc6",
   "metadata": {},
   "outputs": [],
   "source": []
  },
  {
   "cell_type": "code",
   "execution_count": null,
   "id": "7b2696c7",
   "metadata": {},
   "outputs": [],
   "source": []
  },
  {
   "cell_type": "code",
   "execution_count": null,
   "id": "40cea4e8",
   "metadata": {},
   "outputs": [],
   "source": []
  },
  {
   "cell_type": "code",
   "execution_count": null,
   "id": "31a03369",
   "metadata": {},
   "outputs": [],
   "source": []
  },
  {
   "cell_type": "code",
   "execution_count": null,
   "id": "d785ef66",
   "metadata": {},
   "outputs": [],
   "source": []
  },
  {
   "cell_type": "code",
   "execution_count": null,
   "id": "6a09a8c6",
   "metadata": {},
   "outputs": [],
   "source": []
  },
  {
   "cell_type": "code",
   "execution_count": null,
   "id": "9b858dea",
   "metadata": {},
   "outputs": [],
   "source": []
  },
  {
   "cell_type": "code",
   "execution_count": null,
   "id": "424368d5",
   "metadata": {},
   "outputs": [],
   "source": []
  },
  {
   "cell_type": "code",
   "execution_count": null,
   "id": "a97a1a2a",
   "metadata": {},
   "outputs": [],
   "source": []
  },
  {
   "cell_type": "code",
   "execution_count": null,
   "id": "ba6aa6c5",
   "metadata": {},
   "outputs": [],
   "source": []
  },
  {
   "cell_type": "code",
   "execution_count": null,
   "id": "1dac3b80",
   "metadata": {},
   "outputs": [],
   "source": []
  }
 ],
 "metadata": {
  "kernelspec": {
   "display_name": "Python 3 (ipykernel)",
   "language": "python",
   "name": "python3"
  },
  "language_info": {
   "codemirror_mode": {
    "name": "ipython",
    "version": 3
   },
   "file_extension": ".py",
   "mimetype": "text/x-python",
   "name": "python",
   "nbconvert_exporter": "python",
   "pygments_lexer": "ipython3",
   "version": "3.10.6"
  }
 },
 "nbformat": 4,
 "nbformat_minor": 5
}
