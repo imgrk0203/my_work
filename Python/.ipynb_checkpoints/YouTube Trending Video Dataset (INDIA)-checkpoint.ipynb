{
 "cells": [
  {
   "cell_type": "markdown",
   "id": "43f04fa3",
   "metadata": {},
   "source": [
    "# Data Analysis: Generate Insights Like A Pro In 7 Steps\n",
    "### Step 1: Understanding the business problem.\n",
    "### Step 2: Analyze data requirements.\n",
    "### Step 3: Data understanding and collection (Data Gathering)\n",
    "### Step 4: Data Preparation (Data Transformation)\n",
    "> Data is usually inclusive of missing values, inaccuracies, and other errors. Hence error correction, verifying the data quality, and joining the data sets together are a big part of the data preparation process.\n",
    "\n",
    "#### The additional two steps of data preparation are:\n",
    "\n",
    "1. Converting the collected data to a structured format with all required elements.\n",
    "2. Cleaning it to remove unwanted substances.\n",
    "3. Data Modelling (ERD)\n",
    "\n",
    "### Step 5: Data Visualization.\n",
    "### Step 6: Data Analysis.\n",
    "### Step 7: Deployment."
   ]
  },
  {
   "cell_type": "code",
   "execution_count": 1,
   "id": "89b8fd98",
   "metadata": {},
   "outputs": [],
   "source": [
    "# Importing Required Libraries\n",
    "\n",
    "import numpy as np\n",
    "import pandas as pd\n",
    "import matplotlib.pyplot as plt\n",
    "import json"
   ]
  },
  {
   "cell_type": "markdown",
   "id": "1bc9390f",
   "metadata": {},
   "source": [
    "# 1. Data Gathering, Transformation & Explanation"
   ]
  },
  {
   "cell_type": "markdown",
   "id": "1d48eb77",
   "metadata": {},
   "source": [
    "## *1.1. Reading first <.json> format file from local path*"
   ]
  },
  {
   "cell_type": "code",
   "execution_count": 2,
   "id": "d1e9561e",
   "metadata": {},
   "outputs": [
    {
     "data": {
      "text/html": [
       "<div>\n",
       "<style scoped>\n",
       "    .dataframe tbody tr th:only-of-type {\n",
       "        vertical-align: middle;\n",
       "    }\n",
       "\n",
       "    .dataframe tbody tr th {\n",
       "        vertical-align: top;\n",
       "    }\n",
       "\n",
       "    .dataframe thead th {\n",
       "        text-align: right;\n",
       "    }\n",
       "</style>\n",
       "<table border=\"1\" class=\"dataframe\">\n",
       "  <thead>\n",
       "    <tr style=\"text-align: right;\">\n",
       "      <th></th>\n",
       "      <th>kind</th>\n",
       "      <th>etag</th>\n",
       "      <th>items</th>\n",
       "    </tr>\n",
       "  </thead>\n",
       "  <tbody>\n",
       "    <tr>\n",
       "      <th>0</th>\n",
       "      <td>youtube#videoCategoryListResponse</td>\n",
       "      <td>kBCr3I9kLHHU79W4Ip5196LDptI</td>\n",
       "      <td>{'kind': 'youtube#videoCategory', 'etag': 'IfW...</td>\n",
       "    </tr>\n",
       "    <tr>\n",
       "      <th>1</th>\n",
       "      <td>youtube#videoCategoryListResponse</td>\n",
       "      <td>kBCr3I9kLHHU79W4Ip5196LDptI</td>\n",
       "      <td>{'kind': 'youtube#videoCategory', 'etag': '5XG...</td>\n",
       "    </tr>\n",
       "  </tbody>\n",
       "</table>\n",
       "</div>"
      ],
      "text/plain": [
       "                                kind                         etag  \\\n",
       "0  youtube#videoCategoryListResponse  kBCr3I9kLHHU79W4Ip5196LDptI   \n",
       "1  youtube#videoCategoryListResponse  kBCr3I9kLHHU79W4Ip5196LDptI   \n",
       "\n",
       "                                               items  \n",
       "0  {'kind': 'youtube#videoCategory', 'etag': 'IfW...  \n",
       "1  {'kind': 'youtube#videoCategory', 'etag': '5XG...  "
      ]
     },
     "execution_count": 2,
     "metadata": {},
     "output_type": "execute_result"
    }
   ],
   "source": [
    "# Opening JSON file\n",
    "f = open(\"/home/gaurav/Documents/Python/data/YouTube(IN)/IN_category_id.json\")\n",
    "  \n",
    "# returns JSON object as a dictionary\n",
    "data = json.load(f)\n",
    "\n",
    "# Creating Dataframe of json data\n",
    "df01 = pd.DataFrame(data)\n",
    "df01.head(2)"
   ]
  },
  {
   "cell_type": "markdown",
   "id": "0afff29d",
   "metadata": {},
   "source": [
    "### Creating Dataframe after flattening json data"
   ]
  },
  {
   "cell_type": "code",
   "execution_count": 3,
   "id": "c280ce07",
   "metadata": {},
   "outputs": [
    {
     "data": {
      "text/html": [
       "<div>\n",
       "<style scoped>\n",
       "    .dataframe tbody tr th:only-of-type {\n",
       "        vertical-align: middle;\n",
       "    }\n",
       "\n",
       "    .dataframe tbody tr th {\n",
       "        vertical-align: top;\n",
       "    }\n",
       "\n",
       "    .dataframe thead th {\n",
       "        text-align: right;\n",
       "    }\n",
       "</style>\n",
       "<table border=\"1\" class=\"dataframe\">\n",
       "  <thead>\n",
       "    <tr style=\"text-align: right;\">\n",
       "      <th></th>\n",
       "      <th>kind</th>\n",
       "      <th>etag</th>\n",
       "      <th>id</th>\n",
       "      <th>snippet.title</th>\n",
       "      <th>snippet.assignable</th>\n",
       "      <th>snippet.channelId</th>\n",
       "    </tr>\n",
       "  </thead>\n",
       "  <tbody>\n",
       "    <tr>\n",
       "      <th>0</th>\n",
       "      <td>youtube#videoCategory</td>\n",
       "      <td>IfWa37JGcqZs-jZeAyFGkbeh6bc</td>\n",
       "      <td>1</td>\n",
       "      <td>Film &amp; Animation</td>\n",
       "      <td>True</td>\n",
       "      <td>UCBR8-60-B28hp2BmDPdntcQ</td>\n",
       "    </tr>\n",
       "    <tr>\n",
       "      <th>1</th>\n",
       "      <td>youtube#videoCategory</td>\n",
       "      <td>5XGylIs7zkjHh5940dsT5862m1Y</td>\n",
       "      <td>2</td>\n",
       "      <td>Autos &amp; Vehicles</td>\n",
       "      <td>True</td>\n",
       "      <td>UCBR8-60-B28hp2BmDPdntcQ</td>\n",
       "    </tr>\n",
       "  </tbody>\n",
       "</table>\n",
       "</div>"
      ],
      "text/plain": [
       "                    kind                         etag id     snippet.title  \\\n",
       "0  youtube#videoCategory  IfWa37JGcqZs-jZeAyFGkbeh6bc  1  Film & Animation   \n",
       "1  youtube#videoCategory  5XGylIs7zkjHh5940dsT5862m1Y  2  Autos & Vehicles   \n",
       "\n",
       "   snippet.assignable         snippet.channelId  \n",
       "0                True  UCBR8-60-B28hp2BmDPdntcQ  \n",
       "1                True  UCBR8-60-B28hp2BmDPdntcQ  "
      ]
     },
     "execution_count": 3,
     "metadata": {},
     "output_type": "execute_result"
    }
   ],
   "source": [
    "df1 = pd.json_normalize(data,record_path=['items'])\n",
    "df1.head(2)"
   ]
  },
  {
   "cell_type": "markdown",
   "id": "ed14ccc7",
   "metadata": {},
   "source": [
    "### Dropping columns unwanted for analysis"
   ]
  },
  {
   "cell_type": "code",
   "execution_count": 4,
   "id": "f559e71a",
   "metadata": {},
   "outputs": [],
   "source": [
    "df1.drop(['kind', 'etag', 'snippet.assignable','snippet.channelId'], axis=1, inplace=True)"
   ]
  },
  {
   "cell_type": "markdown",
   "id": "74b75dfa",
   "metadata": {},
   "source": [
    "### Renaming Columns"
   ]
  },
  {
   "cell_type": "code",
   "execution_count": 5,
   "id": "f97d96b5",
   "metadata": {},
   "outputs": [
    {
     "data": {
      "text/html": [
       "<div>\n",
       "<style scoped>\n",
       "    .dataframe tbody tr th:only-of-type {\n",
       "        vertical-align: middle;\n",
       "    }\n",
       "\n",
       "    .dataframe tbody tr th {\n",
       "        vertical-align: top;\n",
       "    }\n",
       "\n",
       "    .dataframe thead th {\n",
       "        text-align: right;\n",
       "    }\n",
       "</style>\n",
       "<table border=\"1\" class=\"dataframe\">\n",
       "  <thead>\n",
       "    <tr style=\"text-align: right;\">\n",
       "      <th></th>\n",
       "      <th>categoryId</th>\n",
       "      <th>categoryTitle</th>\n",
       "    </tr>\n",
       "  </thead>\n",
       "  <tbody>\n",
       "    <tr>\n",
       "      <th>0</th>\n",
       "      <td>1</td>\n",
       "      <td>Film &amp; Animation</td>\n",
       "    </tr>\n",
       "    <tr>\n",
       "      <th>1</th>\n",
       "      <td>2</td>\n",
       "      <td>Autos &amp; Vehicles</td>\n",
       "    </tr>\n",
       "  </tbody>\n",
       "</table>\n",
       "</div>"
      ],
      "text/plain": [
       "  categoryId     categoryTitle\n",
       "0          1  Film & Animation\n",
       "1          2  Autos & Vehicles"
      ]
     },
     "execution_count": 5,
     "metadata": {},
     "output_type": "execute_result"
    }
   ],
   "source": [
    "df1.rename(columns = {'id':'categoryId','snippet.title':'categoryTitle'}, inplace = True)\n",
    "df1.head(2)"
   ]
  },
  {
   "cell_type": "markdown",
   "id": "40d33d84",
   "metadata": {},
   "source": [
    "### Let's store final usable data into \"category\" dataframe"
   ]
  },
  {
   "cell_type": "code",
   "execution_count": 6,
   "id": "3c283812",
   "metadata": {},
   "outputs": [
    {
     "data": {
      "text/html": [
       "<div>\n",
       "<style scoped>\n",
       "    .dataframe tbody tr th:only-of-type {\n",
       "        vertical-align: middle;\n",
       "    }\n",
       "\n",
       "    .dataframe tbody tr th {\n",
       "        vertical-align: top;\n",
       "    }\n",
       "\n",
       "    .dataframe thead th {\n",
       "        text-align: right;\n",
       "    }\n",
       "</style>\n",
       "<table border=\"1\" class=\"dataframe\">\n",
       "  <thead>\n",
       "    <tr style=\"text-align: right;\">\n",
       "      <th></th>\n",
       "      <th>categoryId</th>\n",
       "      <th>categoryTitle</th>\n",
       "    </tr>\n",
       "  </thead>\n",
       "  <tbody>\n",
       "    <tr>\n",
       "      <th>0</th>\n",
       "      <td>1</td>\n",
       "      <td>Film &amp; Animation</td>\n",
       "    </tr>\n",
       "    <tr>\n",
       "      <th>1</th>\n",
       "      <td>2</td>\n",
       "      <td>Autos &amp; Vehicles</td>\n",
       "    </tr>\n",
       "  </tbody>\n",
       "</table>\n",
       "</div>"
      ],
      "text/plain": [
       "  categoryId     categoryTitle\n",
       "0          1  Film & Animation\n",
       "1          2  Autos & Vehicles"
      ]
     },
     "execution_count": 6,
     "metadata": {},
     "output_type": "execute_result"
    }
   ],
   "source": [
    "category = df1\n",
    "category.head(2)"
   ]
  },
  {
   "cell_type": "markdown",
   "id": "459b184c",
   "metadata": {},
   "source": [
    "### Basic Analysis about category dataframe"
   ]
  },
  {
   "cell_type": "code",
   "execution_count": 7,
   "id": "cc8ec859",
   "metadata": {},
   "outputs": [
    {
     "data": {
      "text/plain": [
       "(31, 2)"
      ]
     },
     "execution_count": 7,
     "metadata": {},
     "output_type": "execute_result"
    }
   ],
   "source": [
    "category.shape"
   ]
  },
  {
   "cell_type": "code",
   "execution_count": 8,
   "id": "437c708f",
   "metadata": {},
   "outputs": [
    {
     "name": "stdout",
     "output_type": "stream",
     "text": [
      "<class 'pandas.core.frame.DataFrame'>\n",
      "RangeIndex: 31 entries, 0 to 30\n",
      "Data columns (total 2 columns):\n",
      " #   Column         Non-Null Count  Dtype \n",
      "---  ------         --------------  ----- \n",
      " 0   categoryId     31 non-null     object\n",
      " 1   categoryTitle  31 non-null     object\n",
      "dtypes: object(2)\n",
      "memory usage: 624.0+ bytes\n"
     ]
    }
   ],
   "source": [
    "category.info()"
   ]
  },
  {
   "cell_type": "code",
   "execution_count": 9,
   "id": "762f4609",
   "metadata": {},
   "outputs": [
    {
     "data": {
      "text/html": [
       "<div>\n",
       "<style scoped>\n",
       "    .dataframe tbody tr th:only-of-type {\n",
       "        vertical-align: middle;\n",
       "    }\n",
       "\n",
       "    .dataframe tbody tr th {\n",
       "        vertical-align: top;\n",
       "    }\n",
       "\n",
       "    .dataframe thead th {\n",
       "        text-align: right;\n",
       "    }\n",
       "</style>\n",
       "<table border=\"1\" class=\"dataframe\">\n",
       "  <thead>\n",
       "    <tr style=\"text-align: right;\">\n",
       "      <th></th>\n",
       "      <th>categoryId</th>\n",
       "      <th>categoryTitle</th>\n",
       "    </tr>\n",
       "  </thead>\n",
       "  <tbody>\n",
       "    <tr>\n",
       "      <th>count</th>\n",
       "      <td>31</td>\n",
       "      <td>31</td>\n",
       "    </tr>\n",
       "    <tr>\n",
       "      <th>unique</th>\n",
       "      <td>31</td>\n",
       "      <td>30</td>\n",
       "    </tr>\n",
       "    <tr>\n",
       "      <th>top</th>\n",
       "      <td>1</td>\n",
       "      <td>Comedy</td>\n",
       "    </tr>\n",
       "    <tr>\n",
       "      <th>freq</th>\n",
       "      <td>1</td>\n",
       "      <td>2</td>\n",
       "    </tr>\n",
       "  </tbody>\n",
       "</table>\n",
       "</div>"
      ],
      "text/plain": [
       "       categoryId categoryTitle\n",
       "count          31            31\n",
       "unique         31            30\n",
       "top             1        Comedy\n",
       "freq            1             2"
      ]
     },
     "execution_count": 9,
     "metadata": {},
     "output_type": "execute_result"
    }
   ],
   "source": [
    "category.describe()"
   ]
  },
  {
   "cell_type": "code",
   "execution_count": 10,
   "id": "d5f3ba3e",
   "metadata": {},
   "outputs": [
    {
     "data": {
      "text/plain": [
       "categoryId       31\n",
       "categoryTitle    30\n",
       "dtype: int64"
      ]
     },
     "execution_count": 10,
     "metadata": {},
     "output_type": "execute_result"
    }
   ],
   "source": [
    "category.nunique()"
   ]
  },
  {
   "cell_type": "code",
   "execution_count": 11,
   "id": "5989dd39",
   "metadata": {},
   "outputs": [
    {
     "data": {
      "text/plain": [
       "array(['Film & Animation', 'Autos & Vehicles', 'Music', 'Pets & Animals',\n",
       "       'Sports', 'Short Movies', 'Travel & Events', 'Gaming',\n",
       "       'Videoblogging', 'People & Blogs', 'Comedy', 'Entertainment',\n",
       "       'News & Politics', 'Howto & Style', 'Education',\n",
       "       'Science & Technology', 'Movies', 'Anime/Animation',\n",
       "       'Action/Adventure', 'Classics', 'Documentary', 'Drama', 'Family',\n",
       "       'Foreign', 'Horror', 'Sci-Fi/Fantasy', 'Thriller', 'Shorts',\n",
       "       'Shows', 'Trailers'], dtype=object)"
      ]
     },
     "execution_count": 11,
     "metadata": {},
     "output_type": "execute_result"
    }
   ],
   "source": [
    "# Print categories name (unique)\n",
    "\n",
    "category['categoryTitle'].unique()"
   ]
  },
  {
   "cell_type": "code",
   "execution_count": 12,
   "id": "07603c67",
   "metadata": {},
   "outputs": [
    {
     "data": {
      "text/plain": [
       "0"
      ]
     },
     "execution_count": 12,
     "metadata": {},
     "output_type": "execute_result"
    }
   ],
   "source": [
    "# Check duplicates\n",
    "\n",
    "category.duplicated().sum()"
   ]
  },
  {
   "cell_type": "markdown",
   "id": "ec5ce47e",
   "metadata": {},
   "source": [
    "There is no duplicate rows in this dataframe."
   ]
  },
  {
   "cell_type": "code",
   "execution_count": 13,
   "id": "65925501",
   "metadata": {},
   "outputs": [
    {
     "data": {
      "text/plain": [
       "categoryId       0\n",
       "categoryTitle    0\n",
       "dtype: int64"
      ]
     },
     "execution_count": 13,
     "metadata": {},
     "output_type": "execute_result"
    }
   ],
   "source": [
    "# Check null values\n",
    "\n",
    "category.isnull().sum()"
   ]
  },
  {
   "cell_type": "markdown",
   "id": "bd2a9bba",
   "metadata": {},
   "source": [
    "There is no null values in both columns of dataframe."
   ]
  },
  {
   "cell_type": "markdown",
   "id": "fb6751a3",
   "metadata": {},
   "source": [
    "## *1.2. Reading second .csv format file from local path*"
   ]
  },
  {
   "cell_type": "code",
   "execution_count": 14,
   "id": "51a3741e",
   "metadata": {},
   "outputs": [],
   "source": [
    "df2 = pd.read_csv(\"/home/gaurav/Documents/Python/data/YouTube(IN)/IN_youtube_trending_data.csv\") "
   ]
  },
  {
   "cell_type": "code",
   "execution_count": 15,
   "id": "96a7349f",
   "metadata": {},
   "outputs": [
    {
     "data": {
      "text/html": [
       "<div>\n",
       "<style scoped>\n",
       "    .dataframe tbody tr th:only-of-type {\n",
       "        vertical-align: middle;\n",
       "    }\n",
       "\n",
       "    .dataframe tbody tr th {\n",
       "        vertical-align: top;\n",
       "    }\n",
       "\n",
       "    .dataframe thead th {\n",
       "        text-align: right;\n",
       "    }\n",
       "</style>\n",
       "<table border=\"1\" class=\"dataframe\">\n",
       "  <thead>\n",
       "    <tr style=\"text-align: right;\">\n",
       "      <th></th>\n",
       "      <th>video_id</th>\n",
       "      <th>title</th>\n",
       "      <th>publishedAt</th>\n",
       "      <th>channelId</th>\n",
       "      <th>channelTitle</th>\n",
       "      <th>categoryId</th>\n",
       "      <th>trending_date</th>\n",
       "      <th>tags</th>\n",
       "      <th>view_count</th>\n",
       "      <th>likes</th>\n",
       "      <th>dislikes</th>\n",
       "      <th>comment_count</th>\n",
       "      <th>thumbnail_link</th>\n",
       "      <th>comments_disabled</th>\n",
       "      <th>ratings_disabled</th>\n",
       "      <th>description</th>\n",
       "    </tr>\n",
       "  </thead>\n",
       "  <tbody>\n",
       "    <tr>\n",
       "      <th>0</th>\n",
       "      <td>Iot0eF6EoNA</td>\n",
       "      <td>Sadak 2 | Official Trailer | Sanjay | Pooja | ...</td>\n",
       "      <td>2020-08-12T04:31:41Z</td>\n",
       "      <td>UCGqvJPRcv7aVFun-eTsatcA</td>\n",
       "      <td>FoxStarHindi</td>\n",
       "      <td>24</td>\n",
       "      <td>2020-08-12T00:00:00Z</td>\n",
       "      <td>sadak|sadak 2|mahesh bhatt|vishesh films|pooja...</td>\n",
       "      <td>9885899</td>\n",
       "      <td>224925</td>\n",
       "      <td>3979409</td>\n",
       "      <td>350210</td>\n",
       "      <td>https://i.ytimg.com/vi/Iot0eF6EoNA/default.jpg</td>\n",
       "      <td>False</td>\n",
       "      <td>False</td>\n",
       "      <td>Three Streams. Three Stories. One Journey. Sta...</td>\n",
       "    </tr>\n",
       "    <tr>\n",
       "      <th>1</th>\n",
       "      <td>x-KbnJ9fvJc</td>\n",
       "      <td>Kya Baat Aa : Karan Aujla (Official Video) Tan...</td>\n",
       "      <td>2020-08-11T09:00:11Z</td>\n",
       "      <td>UCm9SZAl03Rev9sFwloCdz1g</td>\n",
       "      <td>Rehaan Records</td>\n",
       "      <td>10</td>\n",
       "      <td>2020-08-12T00:00:00Z</td>\n",
       "      <td>[None]</td>\n",
       "      <td>11308046</td>\n",
       "      <td>655450</td>\n",
       "      <td>33242</td>\n",
       "      <td>405146</td>\n",
       "      <td>https://i.ytimg.com/vi/x-KbnJ9fvJc/default.jpg</td>\n",
       "      <td>False</td>\n",
       "      <td>False</td>\n",
       "      <td>Singer/Lyrics: Karan Aujla Feat Tania Music/ D...</td>\n",
       "    </tr>\n",
       "  </tbody>\n",
       "</table>\n",
       "</div>"
      ],
      "text/plain": [
       "      video_id                                              title  \\\n",
       "0  Iot0eF6EoNA  Sadak 2 | Official Trailer | Sanjay | Pooja | ...   \n",
       "1  x-KbnJ9fvJc  Kya Baat Aa : Karan Aujla (Official Video) Tan...   \n",
       "\n",
       "            publishedAt                 channelId    channelTitle  categoryId  \\\n",
       "0  2020-08-12T04:31:41Z  UCGqvJPRcv7aVFun-eTsatcA    FoxStarHindi          24   \n",
       "1  2020-08-11T09:00:11Z  UCm9SZAl03Rev9sFwloCdz1g  Rehaan Records          10   \n",
       "\n",
       "          trending_date                                               tags  \\\n",
       "0  2020-08-12T00:00:00Z  sadak|sadak 2|mahesh bhatt|vishesh films|pooja...   \n",
       "1  2020-08-12T00:00:00Z                                             [None]   \n",
       "\n",
       "   view_count   likes  dislikes  comment_count  \\\n",
       "0     9885899  224925   3979409         350210   \n",
       "1    11308046  655450     33242         405146   \n",
       "\n",
       "                                   thumbnail_link  comments_disabled  \\\n",
       "0  https://i.ytimg.com/vi/Iot0eF6EoNA/default.jpg              False   \n",
       "1  https://i.ytimg.com/vi/x-KbnJ9fvJc/default.jpg              False   \n",
       "\n",
       "   ratings_disabled                                        description  \n",
       "0             False  Three Streams. Three Stories. One Journey. Sta...  \n",
       "1             False  Singer/Lyrics: Karan Aujla Feat Tania Music/ D...  "
      ]
     },
     "execution_count": 15,
     "metadata": {},
     "output_type": "execute_result"
    }
   ],
   "source": [
    "df2.head(2)"
   ]
  },
  {
   "cell_type": "code",
   "execution_count": 16,
   "id": "730c05f2",
   "metadata": {},
   "outputs": [
    {
     "data": {
      "text/plain": [
       "(164954, 16)"
      ]
     },
     "execution_count": 16,
     "metadata": {},
     "output_type": "execute_result"
    }
   ],
   "source": [
    "df2.shape"
   ]
  },
  {
   "cell_type": "code",
   "execution_count": 17,
   "id": "97b63a39",
   "metadata": {},
   "outputs": [
    {
     "name": "stdout",
     "output_type": "stream",
     "text": [
      "<class 'pandas.core.frame.DataFrame'>\n",
      "RangeIndex: 164954 entries, 0 to 164953\n",
      "Data columns (total 16 columns):\n",
      " #   Column             Non-Null Count   Dtype \n",
      "---  ------             --------------   ----- \n",
      " 0   video_id           164954 non-null  object\n",
      " 1   title              164954 non-null  object\n",
      " 2   publishedAt        164954 non-null  object\n",
      " 3   channelId          164954 non-null  object\n",
      " 4   channelTitle       164953 non-null  object\n",
      " 5   categoryId         164954 non-null  int64 \n",
      " 6   trending_date      164954 non-null  object\n",
      " 7   tags               164954 non-null  object\n",
      " 8   view_count         164954 non-null  int64 \n",
      " 9   likes              164954 non-null  int64 \n",
      " 10  dislikes           164954 non-null  int64 \n",
      " 11  comment_count      164954 non-null  int64 \n",
      " 12  thumbnail_link     164954 non-null  object\n",
      " 13  comments_disabled  164954 non-null  bool  \n",
      " 14  ratings_disabled   164954 non-null  bool  \n",
      " 15  description        147974 non-null  object\n",
      "dtypes: bool(2), int64(5), object(9)\n",
      "memory usage: 17.9+ MB\n"
     ]
    }
   ],
   "source": [
    "df2.info()"
   ]
  },
  {
   "cell_type": "code",
   "execution_count": 18,
   "id": "244266c7",
   "metadata": {},
   "outputs": [
    {
     "data": {
      "text/plain": [
       "video_id              50304\n",
       "title                 50933\n",
       "publishedAt           49832\n",
       "channelId              3980\n",
       "channelTitle           4130\n",
       "categoryId               15\n",
       "trending_date           840\n",
       "tags                  31502\n",
       "view_count           160659\n",
       "likes                109478\n",
       "dislikes              17039\n",
       "comment_count         27688\n",
       "thumbnail_link        50305\n",
       "comments_disabled         2\n",
       "ratings_disabled          2\n",
       "description           42517\n",
       "dtype: int64"
      ]
     },
     "execution_count": 18,
     "metadata": {},
     "output_type": "execute_result"
    }
   ],
   "source": [
    "df2.nunique()"
   ]
  },
  {
   "cell_type": "code",
   "execution_count": 19,
   "id": "721134ca",
   "metadata": {},
   "outputs": [
    {
     "data": {
      "text/plain": [
       "video_id                 0\n",
       "title                    0\n",
       "publishedAt              0\n",
       "channelId                0\n",
       "channelTitle             1\n",
       "categoryId               0\n",
       "trending_date            0\n",
       "tags                     0\n",
       "view_count               0\n",
       "likes                    0\n",
       "dislikes                 0\n",
       "comment_count            0\n",
       "thumbnail_link           0\n",
       "comments_disabled        0\n",
       "ratings_disabled         0\n",
       "description          16980\n",
       "dtype: int64"
      ]
     },
     "execution_count": 19,
     "metadata": {},
     "output_type": "execute_result"
    }
   ],
   "source": [
    "df2.isnull().sum()"
   ]
  },
  {
   "cell_type": "markdown",
   "id": "26c1a6fa",
   "metadata": {},
   "source": [
    "Here, We can see channelTitle column has 1 null value and description column has 16980 null values. "
   ]
  },
  {
   "cell_type": "code",
   "execution_count": 20,
   "id": "a7cf6b03",
   "metadata": {},
   "outputs": [
    {
     "data": {
      "text/plain": [
       "75"
      ]
     },
     "execution_count": 20,
     "metadata": {},
     "output_type": "execute_result"
    }
   ],
   "source": [
    "df2.duplicated().sum()"
   ]
  },
  {
   "cell_type": "markdown",
   "id": "75387c8a",
   "metadata": {},
   "source": [
    "Total duplicate rows are 75."
   ]
  },
  {
   "cell_type": "code",
   "execution_count": 21,
   "id": "2e43ba14",
   "metadata": {},
   "outputs": [
    {
     "data": {
      "text/plain": [
       "114650"
      ]
     },
     "execution_count": 21,
     "metadata": {},
     "output_type": "execute_result"
    }
   ],
   "source": [
    "df2['video_id'].duplicated().sum()"
   ]
  },
  {
   "cell_type": "code",
   "execution_count": 22,
   "id": "61e50a6a",
   "metadata": {},
   "outputs": [
    {
     "data": {
      "text/html": [
       "<div>\n",
       "<style scoped>\n",
       "    .dataframe tbody tr th:only-of-type {\n",
       "        vertical-align: middle;\n",
       "    }\n",
       "\n",
       "    .dataframe tbody tr th {\n",
       "        vertical-align: top;\n",
       "    }\n",
       "\n",
       "    .dataframe thead th {\n",
       "        text-align: right;\n",
       "    }\n",
       "</style>\n",
       "<table border=\"1\" class=\"dataframe\">\n",
       "  <thead>\n",
       "    <tr style=\"text-align: right;\">\n",
       "      <th></th>\n",
       "      <th>video_id</th>\n",
       "      <th>title</th>\n",
       "      <th>publishedAt</th>\n",
       "      <th>channelId</th>\n",
       "      <th>channelTitle</th>\n",
       "      <th>categoryId</th>\n",
       "      <th>trending_date</th>\n",
       "      <th>tags</th>\n",
       "      <th>view_count</th>\n",
       "      <th>likes</th>\n",
       "      <th>dislikes</th>\n",
       "      <th>comment_count</th>\n",
       "      <th>thumbnail_link</th>\n",
       "      <th>comments_disabled</th>\n",
       "      <th>ratings_disabled</th>\n",
       "      <th>description</th>\n",
       "    </tr>\n",
       "  </thead>\n",
       "  <tbody>\n",
       "    <tr>\n",
       "      <th>223</th>\n",
       "      <td>cRPCXy1i2IY</td>\n",
       "      <td>Jatt Jaffe (Official Video) Jassa Dhillon - Gu...</td>\n",
       "      <td>2020-08-10T04:31:01Z</td>\n",
       "      <td>UColNRmGBE3dNzJ89zZZOh2Q</td>\n",
       "      <td>Brown Town Music</td>\n",
       "      <td>10</td>\n",
       "      <td>2020-08-13T00:00:00Z</td>\n",
       "      <td>jatt jaffe|jatt jaffe jassa dhillon|jatt jaffe...</td>\n",
       "      <td>4987494</td>\n",
       "      <td>139202</td>\n",
       "      <td>2068</td>\n",
       "      <td>16633</td>\n",
       "      <td>https://i.ytimg.com/vi/cRPCXy1i2IY/default.jpg</td>\n",
       "      <td>False</td>\n",
       "      <td>False</td>\n",
       "      <td>Brown Town Music Presents New Song Jatt Jaffe ...</td>\n",
       "    </tr>\n",
       "    <tr>\n",
       "      <th>277</th>\n",
       "      <td>vUzXlHG0UVY</td>\n",
       "      <td>We got LOST in CLOUDS  | LONAVALA vlog series ...</td>\n",
       "      <td>2020-08-13T06:39:33Z</td>\n",
       "      <td>UChZ0JmGgyOWSU-1iXxPhsVA</td>\n",
       "      <td>Sambhavna Seth Entertainment</td>\n",
       "      <td>22</td>\n",
       "      <td>2020-08-13T00:00:00Z</td>\n",
       "      <td>sambhavnaseth|ss vlogs|hindi vlogger|celebrity...</td>\n",
       "      <td>594245</td>\n",
       "      <td>58853</td>\n",
       "      <td>741</td>\n",
       "      <td>4133</td>\n",
       "      <td>https://i.ytimg.com/vi/vUzXlHG0UVY/default.jpg</td>\n",
       "      <td>False</td>\n",
       "      <td>False</td>\n",
       "      <td>For any queries or feedback please mail us to ...</td>\n",
       "    </tr>\n",
       "  </tbody>\n",
       "</table>\n",
       "</div>"
      ],
      "text/plain": [
       "        video_id                                              title  \\\n",
       "223  cRPCXy1i2IY  Jatt Jaffe (Official Video) Jassa Dhillon - Gu...   \n",
       "277  vUzXlHG0UVY  We got LOST in CLOUDS  | LONAVALA vlog series ...   \n",
       "\n",
       "              publishedAt                 channelId  \\\n",
       "223  2020-08-10T04:31:01Z  UColNRmGBE3dNzJ89zZZOh2Q   \n",
       "277  2020-08-13T06:39:33Z  UChZ0JmGgyOWSU-1iXxPhsVA   \n",
       "\n",
       "                     channelTitle  categoryId         trending_date  \\\n",
       "223              Brown Town Music          10  2020-08-13T00:00:00Z   \n",
       "277  Sambhavna Seth Entertainment          22  2020-08-13T00:00:00Z   \n",
       "\n",
       "                                                  tags  view_count   likes  \\\n",
       "223  jatt jaffe|jatt jaffe jassa dhillon|jatt jaffe...     4987494  139202   \n",
       "277  sambhavnaseth|ss vlogs|hindi vlogger|celebrity...      594245   58853   \n",
       "\n",
       "     dislikes  comment_count                                  thumbnail_link  \\\n",
       "223      2068          16633  https://i.ytimg.com/vi/cRPCXy1i2IY/default.jpg   \n",
       "277       741           4133  https://i.ytimg.com/vi/vUzXlHG0UVY/default.jpg   \n",
       "\n",
       "     comments_disabled  ratings_disabled  \\\n",
       "223              False             False   \n",
       "277              False             False   \n",
       "\n",
       "                                           description  \n",
       "223  Brown Town Music Presents New Song Jatt Jaffe ...  \n",
       "277  For any queries or feedback please mail us to ...  "
      ]
     },
     "execution_count": 22,
     "metadata": {},
     "output_type": "execute_result"
    }
   ],
   "source": [
    "# To print rows with duplication\n",
    "\n",
    "df2[df2.duplicated()].head(2)"
   ]
  },
  {
   "cell_type": "markdown",
   "id": "308a9f9e",
   "metadata": {},
   "source": [
    "### Dropping duplicate columns"
   ]
  },
  {
   "cell_type": "code",
   "execution_count": 23,
   "id": "78bd1660",
   "metadata": {},
   "outputs": [],
   "source": [
    "df2.drop_duplicates(inplace = True)"
   ]
  },
  {
   "cell_type": "markdown",
   "id": "c16447f2",
   "metadata": {},
   "source": [
    "### Renaming Columns"
   ]
  },
  {
   "cell_type": "code",
   "execution_count": 24,
   "id": "aaeafe78",
   "metadata": {},
   "outputs": [],
   "source": [
    "df2.rename(columns = {'title':'videoTitle'}, inplace = True)"
   ]
  },
  {
   "cell_type": "markdown",
   "id": "bb2a42b7",
   "metadata": {},
   "source": [
    "### Next, Let's store final usable data into \"video\" dataframe."
   ]
  },
  {
   "cell_type": "code",
   "execution_count": 25,
   "id": "0ba9fc77",
   "metadata": {},
   "outputs": [
    {
     "data": {
      "text/html": [
       "<div>\n",
       "<style scoped>\n",
       "    .dataframe tbody tr th:only-of-type {\n",
       "        vertical-align: middle;\n",
       "    }\n",
       "\n",
       "    .dataframe tbody tr th {\n",
       "        vertical-align: top;\n",
       "    }\n",
       "\n",
       "    .dataframe thead th {\n",
       "        text-align: right;\n",
       "    }\n",
       "</style>\n",
       "<table border=\"1\" class=\"dataframe\">\n",
       "  <thead>\n",
       "    <tr style=\"text-align: right;\">\n",
       "      <th></th>\n",
       "      <th>video_id</th>\n",
       "      <th>videoTitle</th>\n",
       "      <th>publishedAt</th>\n",
       "      <th>channelId</th>\n",
       "      <th>channelTitle</th>\n",
       "      <th>categoryId</th>\n",
       "      <th>trending_date</th>\n",
       "      <th>tags</th>\n",
       "      <th>view_count</th>\n",
       "      <th>likes</th>\n",
       "      <th>dislikes</th>\n",
       "      <th>comment_count</th>\n",
       "      <th>thumbnail_link</th>\n",
       "      <th>comments_disabled</th>\n",
       "      <th>ratings_disabled</th>\n",
       "      <th>description</th>\n",
       "    </tr>\n",
       "  </thead>\n",
       "  <tbody>\n",
       "    <tr>\n",
       "      <th>0</th>\n",
       "      <td>Iot0eF6EoNA</td>\n",
       "      <td>Sadak 2 | Official Trailer | Sanjay | Pooja | ...</td>\n",
       "      <td>2020-08-12T04:31:41Z</td>\n",
       "      <td>UCGqvJPRcv7aVFun-eTsatcA</td>\n",
       "      <td>FoxStarHindi</td>\n",
       "      <td>24</td>\n",
       "      <td>2020-08-12T00:00:00Z</td>\n",
       "      <td>sadak|sadak 2|mahesh bhatt|vishesh films|pooja...</td>\n",
       "      <td>9885899</td>\n",
       "      <td>224925</td>\n",
       "      <td>3979409</td>\n",
       "      <td>350210</td>\n",
       "      <td>https://i.ytimg.com/vi/Iot0eF6EoNA/default.jpg</td>\n",
       "      <td>False</td>\n",
       "      <td>False</td>\n",
       "      <td>Three Streams. Three Stories. One Journey. Sta...</td>\n",
       "    </tr>\n",
       "    <tr>\n",
       "      <th>1</th>\n",
       "      <td>x-KbnJ9fvJc</td>\n",
       "      <td>Kya Baat Aa : Karan Aujla (Official Video) Tan...</td>\n",
       "      <td>2020-08-11T09:00:11Z</td>\n",
       "      <td>UCm9SZAl03Rev9sFwloCdz1g</td>\n",
       "      <td>Rehaan Records</td>\n",
       "      <td>10</td>\n",
       "      <td>2020-08-12T00:00:00Z</td>\n",
       "      <td>[None]</td>\n",
       "      <td>11308046</td>\n",
       "      <td>655450</td>\n",
       "      <td>33242</td>\n",
       "      <td>405146</td>\n",
       "      <td>https://i.ytimg.com/vi/x-KbnJ9fvJc/default.jpg</td>\n",
       "      <td>False</td>\n",
       "      <td>False</td>\n",
       "      <td>Singer/Lyrics: Karan Aujla Feat Tania Music/ D...</td>\n",
       "    </tr>\n",
       "  </tbody>\n",
       "</table>\n",
       "</div>"
      ],
      "text/plain": [
       "      video_id                                         videoTitle  \\\n",
       "0  Iot0eF6EoNA  Sadak 2 | Official Trailer | Sanjay | Pooja | ...   \n",
       "1  x-KbnJ9fvJc  Kya Baat Aa : Karan Aujla (Official Video) Tan...   \n",
       "\n",
       "            publishedAt                 channelId    channelTitle  categoryId  \\\n",
       "0  2020-08-12T04:31:41Z  UCGqvJPRcv7aVFun-eTsatcA    FoxStarHindi          24   \n",
       "1  2020-08-11T09:00:11Z  UCm9SZAl03Rev9sFwloCdz1g  Rehaan Records          10   \n",
       "\n",
       "          trending_date                                               tags  \\\n",
       "0  2020-08-12T00:00:00Z  sadak|sadak 2|mahesh bhatt|vishesh films|pooja...   \n",
       "1  2020-08-12T00:00:00Z                                             [None]   \n",
       "\n",
       "   view_count   likes  dislikes  comment_count  \\\n",
       "0     9885899  224925   3979409         350210   \n",
       "1    11308046  655450     33242         405146   \n",
       "\n",
       "                                   thumbnail_link  comments_disabled  \\\n",
       "0  https://i.ytimg.com/vi/Iot0eF6EoNA/default.jpg              False   \n",
       "1  https://i.ytimg.com/vi/x-KbnJ9fvJc/default.jpg              False   \n",
       "\n",
       "   ratings_disabled                                        description  \n",
       "0             False  Three Streams. Three Stories. One Journey. Sta...  \n",
       "1             False  Singer/Lyrics: Karan Aujla Feat Tania Music/ D...  "
      ]
     },
     "execution_count": 25,
     "metadata": {},
     "output_type": "execute_result"
    }
   ],
   "source": [
    "video = df2\n",
    "video.head(2)"
   ]
  },
  {
   "cell_type": "markdown",
   "id": "e9ae2213",
   "metadata": {},
   "source": [
    "## *1.3. Joining both dataframe & creating a enriched dataframe for our analysis*"
   ]
  },
  {
   "cell_type": "code",
   "execution_count": 26,
   "id": "1a912734",
   "metadata": {},
   "outputs": [
    {
     "data": {
      "text/plain": [
       "categoryId       object\n",
       "categoryTitle    object\n",
       "dtype: object"
      ]
     },
     "execution_count": 26,
     "metadata": {},
     "output_type": "execute_result"
    }
   ],
   "source": [
    "category.dtypes"
   ]
  },
  {
   "cell_type": "code",
   "execution_count": 27,
   "id": "98ecedb1",
   "metadata": {},
   "outputs": [
    {
     "data": {
      "text/plain": [
       "categoryId        int64\n",
       "categoryTitle    object\n",
       "dtype: object"
      ]
     },
     "execution_count": 27,
     "metadata": {},
     "output_type": "execute_result"
    }
   ],
   "source": [
    "# Changing datatype of 'Id' from object to int:\n",
    "\n",
    "category['categoryId'] = category['categoryId'].astype(int)\n",
    "category.dtypes"
   ]
  },
  {
   "cell_type": "code",
   "execution_count": 28,
   "id": "7ff0d3f8",
   "metadata": {},
   "outputs": [
    {
     "data": {
      "text/plain": [
       "video_id             object\n",
       "videoTitle           object\n",
       "publishedAt          object\n",
       "channelId            object\n",
       "channelTitle         object\n",
       "categoryId            int64\n",
       "trending_date        object\n",
       "tags                 object\n",
       "view_count            int64\n",
       "likes                 int64\n",
       "dislikes              int64\n",
       "comment_count         int64\n",
       "thumbnail_link       object\n",
       "comments_disabled      bool\n",
       "ratings_disabled       bool\n",
       "description          object\n",
       "dtype: object"
      ]
     },
     "execution_count": 28,
     "metadata": {},
     "output_type": "execute_result"
    }
   ],
   "source": [
    "video.dtypes"
   ]
  },
  {
   "cell_type": "code",
   "execution_count": 29,
   "id": "2c1124ec",
   "metadata": {},
   "outputs": [
    {
     "data": {
      "text/plain": [
       "video_id                     object\n",
       "videoTitle                   object\n",
       "publishedAt          datetime64[ns]\n",
       "channelId                    object\n",
       "channelTitle                 object\n",
       "categoryId                    int64\n",
       "trending_date        datetime64[ns]\n",
       "tags                         object\n",
       "view_count                    int64\n",
       "likes                         int64\n",
       "dislikes                      int64\n",
       "comment_count                 int64\n",
       "thumbnail_link               object\n",
       "comments_disabled              bool\n",
       "ratings_disabled               bool\n",
       "description                  object\n",
       "dtype: object"
      ]
     },
     "execution_count": 29,
     "metadata": {},
     "output_type": "execute_result"
    }
   ],
   "source": [
    "# Changing datatype of 'publishedAt' & 'trending_date 'from object to datetime:\n",
    "\n",
    "video['publishedAt'] = pd.to_datetime(video['publishedAt'], infer_datetime_format=True )\n",
    "video['trending_date'] = pd.to_datetime(video['trending_date'], infer_datetime_format=True )\n",
    "video.dtypes"
   ]
  },
  {
   "cell_type": "code",
   "execution_count": 30,
   "id": "ab1a1075",
   "metadata": {},
   "outputs": [
    {
     "data": {
      "text/plain": [
       "categoryId                    int64\n",
       "categoryTitle                object\n",
       "video_id                     object\n",
       "videoTitle                   object\n",
       "publishedAt          datetime64[ns]\n",
       "channelId                    object\n",
       "channelTitle                 object\n",
       "trending_date        datetime64[ns]\n",
       "tags                         object\n",
       "view_count                  float64\n",
       "likes                       float64\n",
       "dislikes                    float64\n",
       "comment_count               float64\n",
       "thumbnail_link               object\n",
       "comments_disabled            object\n",
       "ratings_disabled             object\n",
       "description                  object\n",
       "dtype: object"
      ]
     },
     "execution_count": 30,
     "metadata": {},
     "output_type": "execute_result"
    }
   ],
   "source": [
    "youtube = pd.merge(category, video, how='left', left_on='categoryId', right_on='categoryId')\n",
    "youtube.dtypes"
   ]
  },
  {
   "cell_type": "markdown",
   "id": "7ff3b3f6",
   "metadata": {},
   "source": [
    "## *1.4. Final Dataset for Analysis: youtube*"
   ]
  },
  {
   "cell_type": "code",
   "execution_count": 31,
   "id": "50bcf79b",
   "metadata": {},
   "outputs": [
    {
     "data": {
      "text/html": [
       "<div>\n",
       "<style scoped>\n",
       "    .dataframe tbody tr th:only-of-type {\n",
       "        vertical-align: middle;\n",
       "    }\n",
       "\n",
       "    .dataframe tbody tr th {\n",
       "        vertical-align: top;\n",
       "    }\n",
       "\n",
       "    .dataframe thead th {\n",
       "        text-align: right;\n",
       "    }\n",
       "</style>\n",
       "<table border=\"1\" class=\"dataframe\">\n",
       "  <thead>\n",
       "    <tr style=\"text-align: right;\">\n",
       "      <th></th>\n",
       "      <th>categoryId</th>\n",
       "      <th>categoryTitle</th>\n",
       "      <th>video_id</th>\n",
       "      <th>videoTitle</th>\n",
       "      <th>publishedAt</th>\n",
       "      <th>channelId</th>\n",
       "      <th>channelTitle</th>\n",
       "      <th>trending_date</th>\n",
       "      <th>tags</th>\n",
       "      <th>view_count</th>\n",
       "      <th>likes</th>\n",
       "      <th>dislikes</th>\n",
       "      <th>comment_count</th>\n",
       "      <th>thumbnail_link</th>\n",
       "      <th>comments_disabled</th>\n",
       "      <th>ratings_disabled</th>\n",
       "      <th>description</th>\n",
       "    </tr>\n",
       "  </thead>\n",
       "  <tbody>\n",
       "    <tr>\n",
       "      <th>0</th>\n",
       "      <td>1</td>\n",
       "      <td>Film &amp; Animation</td>\n",
       "      <td>OZBGEjij094</td>\n",
       "      <td>KYA BAAT AA | VLOG | KARAN AUJLA | TANIA |   S...</td>\n",
       "      <td>2020-08-11 09:47:34</td>\n",
       "      <td>UCJ4NUXlZF2RoRK3N1K4HoRw</td>\n",
       "      <td>Sukh Sanghera</td>\n",
       "      <td>2020-08-12</td>\n",
       "      <td>karanaujala|sidhumoosewala|kyabaate|mankirtaul...</td>\n",
       "      <td>766658.0</td>\n",
       "      <td>70544.0</td>\n",
       "      <td>1456.0</td>\n",
       "      <td>3267.0</td>\n",
       "      <td>https://i.ytimg.com/vi/OZBGEjij094/default.jpg</td>\n",
       "      <td>False</td>\n",
       "      <td>False</td>\n",
       "      <td>You Can Contact Us \\r\\rEmail - ten.plusone@hot...</td>\n",
       "    </tr>\n",
       "    <tr>\n",
       "      <th>1</th>\n",
       "      <td>1</td>\n",
       "      <td>Film &amp; Animation</td>\n",
       "      <td>DY7auMfX1YU</td>\n",
       "      <td>LIVE: Janmastami - Dwarka: Vhalo Maro Aaavshe ...</td>\n",
       "      <td>2020-08-12 19:30:27</td>\n",
       "      <td>UCneBFse451PgKgXJTDqikYA</td>\n",
       "      <td>Doordarshan Girnar</td>\n",
       "      <td>2020-08-13</td>\n",
       "      <td>DD Girnar|DD|Gujarati|giranar|news</td>\n",
       "      <td>59327.0</td>\n",
       "      <td>1151.0</td>\n",
       "      <td>53.0</td>\n",
       "      <td>28.0</td>\n",
       "      <td>https://i.ytimg.com/vi/DY7auMfX1YU/default.jpg</td>\n",
       "      <td>False</td>\n",
       "      <td>False</td>\n",
       "      <td>NaN</td>\n",
       "    </tr>\n",
       "    <tr>\n",
       "      <th>2</th>\n",
       "      <td>1</td>\n",
       "      <td>Film &amp; Animation</td>\n",
       "      <td>DY7auMfX1YU</td>\n",
       "      <td>LIVE: Janmastami - Dwarka: Vhalo Maro Aaavshe ...</td>\n",
       "      <td>2020-08-12 19:30:27</td>\n",
       "      <td>UCneBFse451PgKgXJTDqikYA</td>\n",
       "      <td>Doordarshan Girnar</td>\n",
       "      <td>2020-08-14</td>\n",
       "      <td>DD Girnar|DD|Gujarati|giranar|news</td>\n",
       "      <td>63767.0</td>\n",
       "      <td>1192.0</td>\n",
       "      <td>57.0</td>\n",
       "      <td>32.0</td>\n",
       "      <td>https://i.ytimg.com/vi/DY7auMfX1YU/default.jpg</td>\n",
       "      <td>False</td>\n",
       "      <td>False</td>\n",
       "      <td>NaN</td>\n",
       "    </tr>\n",
       "    <tr>\n",
       "      <th>3</th>\n",
       "      <td>1</td>\n",
       "      <td>Film &amp; Animation</td>\n",
       "      <td>OZBGEjij094</td>\n",
       "      <td>KYA BAAT AA | VLOG | KARAN AUJLA | TANIA |   S...</td>\n",
       "      <td>2020-08-11 09:47:34</td>\n",
       "      <td>UCJ4NUXlZF2RoRK3N1K4HoRw</td>\n",
       "      <td>Sukh Sanghera</td>\n",
       "      <td>2020-08-14</td>\n",
       "      <td>karanaujala|sidhumoosewala|kyabaate|mankirtaul...</td>\n",
       "      <td>1227528.0</td>\n",
       "      <td>95347.0</td>\n",
       "      <td>2294.0</td>\n",
       "      <td>4096.0</td>\n",
       "      <td>https://i.ytimg.com/vi/OZBGEjij094/default.jpg</td>\n",
       "      <td>False</td>\n",
       "      <td>False</td>\n",
       "      <td>You Can Contact Us \\r\\rEmail - ten.plusone@hot...</td>\n",
       "    </tr>\n",
       "    <tr>\n",
       "      <th>4</th>\n",
       "      <td>1</td>\n",
       "      <td>Film &amp; Animation</td>\n",
       "      <td>OZBGEjij094</td>\n",
       "      <td>KYA BAAT AA | VLOG | KARAN AUJLA | TANIA |   S...</td>\n",
       "      <td>2020-08-11 09:47:34</td>\n",
       "      <td>UCJ4NUXlZF2RoRK3N1K4HoRw</td>\n",
       "      <td>Sukh Sanghera</td>\n",
       "      <td>2020-08-15</td>\n",
       "      <td>karanaujala|sidhumoosewala|kyabaate|mankirtaul...</td>\n",
       "      <td>1384351.0</td>\n",
       "      <td>102049.0</td>\n",
       "      <td>2553.0</td>\n",
       "      <td>4313.0</td>\n",
       "      <td>https://i.ytimg.com/vi/OZBGEjij094/default.jpg</td>\n",
       "      <td>False</td>\n",
       "      <td>False</td>\n",
       "      <td>You Can Contact Us \\r\\rEmail - ten.plusone@hot...</td>\n",
       "    </tr>\n",
       "  </tbody>\n",
       "</table>\n",
       "</div>"
      ],
      "text/plain": [
       "   categoryId     categoryTitle     video_id  \\\n",
       "0           1  Film & Animation  OZBGEjij094   \n",
       "1           1  Film & Animation  DY7auMfX1YU   \n",
       "2           1  Film & Animation  DY7auMfX1YU   \n",
       "3           1  Film & Animation  OZBGEjij094   \n",
       "4           1  Film & Animation  OZBGEjij094   \n",
       "\n",
       "                                          videoTitle         publishedAt  \\\n",
       "0  KYA BAAT AA | VLOG | KARAN AUJLA | TANIA |   S... 2020-08-11 09:47:34   \n",
       "1  LIVE: Janmastami - Dwarka: Vhalo Maro Aaavshe ... 2020-08-12 19:30:27   \n",
       "2  LIVE: Janmastami - Dwarka: Vhalo Maro Aaavshe ... 2020-08-12 19:30:27   \n",
       "3  KYA BAAT AA | VLOG | KARAN AUJLA | TANIA |   S... 2020-08-11 09:47:34   \n",
       "4  KYA BAAT AA | VLOG | KARAN AUJLA | TANIA |   S... 2020-08-11 09:47:34   \n",
       "\n",
       "                  channelId        channelTitle trending_date  \\\n",
       "0  UCJ4NUXlZF2RoRK3N1K4HoRw       Sukh Sanghera    2020-08-12   \n",
       "1  UCneBFse451PgKgXJTDqikYA  Doordarshan Girnar    2020-08-13   \n",
       "2  UCneBFse451PgKgXJTDqikYA  Doordarshan Girnar    2020-08-14   \n",
       "3  UCJ4NUXlZF2RoRK3N1K4HoRw       Sukh Sanghera    2020-08-14   \n",
       "4  UCJ4NUXlZF2RoRK3N1K4HoRw       Sukh Sanghera    2020-08-15   \n",
       "\n",
       "                                                tags  view_count     likes  \\\n",
       "0  karanaujala|sidhumoosewala|kyabaate|mankirtaul...    766658.0   70544.0   \n",
       "1                 DD Girnar|DD|Gujarati|giranar|news     59327.0    1151.0   \n",
       "2                 DD Girnar|DD|Gujarati|giranar|news     63767.0    1192.0   \n",
       "3  karanaujala|sidhumoosewala|kyabaate|mankirtaul...   1227528.0   95347.0   \n",
       "4  karanaujala|sidhumoosewala|kyabaate|mankirtaul...   1384351.0  102049.0   \n",
       "\n",
       "   dislikes  comment_count                                  thumbnail_link  \\\n",
       "0    1456.0         3267.0  https://i.ytimg.com/vi/OZBGEjij094/default.jpg   \n",
       "1      53.0           28.0  https://i.ytimg.com/vi/DY7auMfX1YU/default.jpg   \n",
       "2      57.0           32.0  https://i.ytimg.com/vi/DY7auMfX1YU/default.jpg   \n",
       "3    2294.0         4096.0  https://i.ytimg.com/vi/OZBGEjij094/default.jpg   \n",
       "4    2553.0         4313.0  https://i.ytimg.com/vi/OZBGEjij094/default.jpg   \n",
       "\n",
       "  comments_disabled ratings_disabled  \\\n",
       "0             False            False   \n",
       "1             False            False   \n",
       "2             False            False   \n",
       "3             False            False   \n",
       "4             False            False   \n",
       "\n",
       "                                         description  \n",
       "0  You Can Contact Us \\r\\rEmail - ten.plusone@hot...  \n",
       "1                                                NaN  \n",
       "2                                                NaN  \n",
       "3  You Can Contact Us \\r\\rEmail - ten.plusone@hot...  \n",
       "4  You Can Contact Us \\r\\rEmail - ten.plusone@hot...  "
      ]
     },
     "execution_count": 31,
     "metadata": {},
     "output_type": "execute_result"
    }
   ],
   "source": [
    "youtube.head()"
   ]
  },
  {
   "cell_type": "markdown",
   "id": "a2f6e14b",
   "metadata": {},
   "source": [
    "### 1. We are going to extract year and month from 'publishedAt' column which will be needed for trend charts.\n",
    "\n",
    "##### Using pandas.Series.dt.year() & pandas.Series.dt.month() method:\n",
    "\n",
    "df['Year']  = df['InsertedDate'].dt.year \n",
    "df['Month'] = df['InsertedDate'].dt.month "
   ]
  },
  {
   "cell_type": "code",
   "execution_count": 32,
   "id": "ffe83247",
   "metadata": {},
   "outputs": [
    {
     "data": {
      "text/html": [
       "<div>\n",
       "<style scoped>\n",
       "    .dataframe tbody tr th:only-of-type {\n",
       "        vertical-align: middle;\n",
       "    }\n",
       "\n",
       "    .dataframe tbody tr th {\n",
       "        vertical-align: top;\n",
       "    }\n",
       "\n",
       "    .dataframe thead th {\n",
       "        text-align: right;\n",
       "    }\n",
       "</style>\n",
       "<table border=\"1\" class=\"dataframe\">\n",
       "  <thead>\n",
       "    <tr style=\"text-align: right;\">\n",
       "      <th></th>\n",
       "      <th>categoryId</th>\n",
       "      <th>categoryTitle</th>\n",
       "      <th>video_id</th>\n",
       "      <th>videoTitle</th>\n",
       "      <th>publishedAt</th>\n",
       "      <th>channelId</th>\n",
       "      <th>channelTitle</th>\n",
       "      <th>trending_date</th>\n",
       "      <th>tags</th>\n",
       "      <th>view_count</th>\n",
       "      <th>likes</th>\n",
       "      <th>dislikes</th>\n",
       "      <th>comment_count</th>\n",
       "      <th>thumbnail_link</th>\n",
       "      <th>comments_disabled</th>\n",
       "      <th>ratings_disabled</th>\n",
       "      <th>description</th>\n",
       "      <th>year</th>\n",
       "      <th>month</th>\n",
       "    </tr>\n",
       "  </thead>\n",
       "  <tbody>\n",
       "    <tr>\n",
       "      <th>0</th>\n",
       "      <td>1</td>\n",
       "      <td>Film &amp; Animation</td>\n",
       "      <td>OZBGEjij094</td>\n",
       "      <td>KYA BAAT AA | VLOG | KARAN AUJLA | TANIA |   S...</td>\n",
       "      <td>2020-08-11 09:47:34</td>\n",
       "      <td>UCJ4NUXlZF2RoRK3N1K4HoRw</td>\n",
       "      <td>Sukh Sanghera</td>\n",
       "      <td>2020-08-12</td>\n",
       "      <td>karanaujala|sidhumoosewala|kyabaate|mankirtaul...</td>\n",
       "      <td>766658.0</td>\n",
       "      <td>70544.0</td>\n",
       "      <td>1456.0</td>\n",
       "      <td>3267.0</td>\n",
       "      <td>https://i.ytimg.com/vi/OZBGEjij094/default.jpg</td>\n",
       "      <td>False</td>\n",
       "      <td>False</td>\n",
       "      <td>You Can Contact Us \\r\\rEmail - ten.plusone@hot...</td>\n",
       "      <td>2020.0</td>\n",
       "      <td>8.0</td>\n",
       "    </tr>\n",
       "    <tr>\n",
       "      <th>1</th>\n",
       "      <td>1</td>\n",
       "      <td>Film &amp; Animation</td>\n",
       "      <td>DY7auMfX1YU</td>\n",
       "      <td>LIVE: Janmastami - Dwarka: Vhalo Maro Aaavshe ...</td>\n",
       "      <td>2020-08-12 19:30:27</td>\n",
       "      <td>UCneBFse451PgKgXJTDqikYA</td>\n",
       "      <td>Doordarshan Girnar</td>\n",
       "      <td>2020-08-13</td>\n",
       "      <td>DD Girnar|DD|Gujarati|giranar|news</td>\n",
       "      <td>59327.0</td>\n",
       "      <td>1151.0</td>\n",
       "      <td>53.0</td>\n",
       "      <td>28.0</td>\n",
       "      <td>https://i.ytimg.com/vi/DY7auMfX1YU/default.jpg</td>\n",
       "      <td>False</td>\n",
       "      <td>False</td>\n",
       "      <td>NaN</td>\n",
       "      <td>2020.0</td>\n",
       "      <td>8.0</td>\n",
       "    </tr>\n",
       "  </tbody>\n",
       "</table>\n",
       "</div>"
      ],
      "text/plain": [
       "   categoryId     categoryTitle     video_id  \\\n",
       "0           1  Film & Animation  OZBGEjij094   \n",
       "1           1  Film & Animation  DY7auMfX1YU   \n",
       "\n",
       "                                          videoTitle         publishedAt  \\\n",
       "0  KYA BAAT AA | VLOG | KARAN AUJLA | TANIA |   S... 2020-08-11 09:47:34   \n",
       "1  LIVE: Janmastami - Dwarka: Vhalo Maro Aaavshe ... 2020-08-12 19:30:27   \n",
       "\n",
       "                  channelId        channelTitle trending_date  \\\n",
       "0  UCJ4NUXlZF2RoRK3N1K4HoRw       Sukh Sanghera    2020-08-12   \n",
       "1  UCneBFse451PgKgXJTDqikYA  Doordarshan Girnar    2020-08-13   \n",
       "\n",
       "                                                tags  view_count    likes  \\\n",
       "0  karanaujala|sidhumoosewala|kyabaate|mankirtaul...    766658.0  70544.0   \n",
       "1                 DD Girnar|DD|Gujarati|giranar|news     59327.0   1151.0   \n",
       "\n",
       "   dislikes  comment_count                                  thumbnail_link  \\\n",
       "0    1456.0         3267.0  https://i.ytimg.com/vi/OZBGEjij094/default.jpg   \n",
       "1      53.0           28.0  https://i.ytimg.com/vi/DY7auMfX1YU/default.jpg   \n",
       "\n",
       "  comments_disabled ratings_disabled  \\\n",
       "0             False            False   \n",
       "1             False            False   \n",
       "\n",
       "                                         description    year  month  \n",
       "0  You Can Contact Us \\r\\rEmail - ten.plusone@hot...  2020.0    8.0  \n",
       "1                                                NaN  2020.0    8.0  "
      ]
     },
     "execution_count": 32,
     "metadata": {},
     "output_type": "execute_result"
    }
   ],
   "source": [
    "youtube['year']  = youtube['publishedAt'].dt.year\n",
    "youtube['month'] = youtube['publishedAt'].dt.month\n",
    "youtube.head(2)"
   ]
  },
  {
   "cell_type": "code",
   "execution_count": 33,
   "id": "02366fdb",
   "metadata": {},
   "outputs": [
    {
     "data": {
      "text/plain": [
       "categoryId                    int64\n",
       "categoryTitle                object\n",
       "video_id                     object\n",
       "videoTitle                   object\n",
       "publishedAt          datetime64[ns]\n",
       "channelId                    object\n",
       "channelTitle                 object\n",
       "trending_date        datetime64[ns]\n",
       "tags                         object\n",
       "view_count                  float64\n",
       "likes                       float64\n",
       "dislikes                    float64\n",
       "comment_count               float64\n",
       "thumbnail_link               object\n",
       "comments_disabled            object\n",
       "ratings_disabled             object\n",
       "description                  object\n",
       "year                        float64\n",
       "month                       float64\n",
       "dtype: object"
      ]
     },
     "execution_count": 33,
     "metadata": {},
     "output_type": "execute_result"
    }
   ],
   "source": [
    "youtube.dtypes"
   ]
  },
  {
   "cell_type": "code",
   "execution_count": 34,
   "id": "5b645c4e",
   "metadata": {},
   "outputs": [
    {
     "data": {
      "text/plain": [
       "categoryId           False\n",
       "categoryTitle        False\n",
       "video_id              True\n",
       "videoTitle            True\n",
       "publishedAt           True\n",
       "channelId             True\n",
       "channelTitle          True\n",
       "trending_date         True\n",
       "tags                  True\n",
       "view_count            True\n",
       "likes                 True\n",
       "dislikes              True\n",
       "comment_count         True\n",
       "thumbnail_link        True\n",
       "comments_disabled     True\n",
       "ratings_disabled      True\n",
       "description           True\n",
       "year                  True\n",
       "month                 True\n",
       "dtype: bool"
      ]
     },
     "execution_count": 34,
     "metadata": {},
     "output_type": "execute_result"
    }
   ],
   "source": [
    "youtube.isna().any()"
   ]
  },
  {
   "cell_type": "markdown",
   "id": "c517f8d7",
   "metadata": {},
   "source": [
    "### 2. Dropping null values from dataframe"
   ]
  },
  {
   "cell_type": "code",
   "execution_count": 35,
   "id": "a897fff1",
   "metadata": {},
   "outputs": [],
   "source": [
    "youtube = youtube.dropna()"
   ]
  },
  {
   "cell_type": "markdown",
   "id": "726dad3e",
   "metadata": {},
   "source": [
    "### 3. Changing datatype for year & month column"
   ]
  },
  {
   "cell_type": "code",
   "execution_count": 36,
   "id": "11b9a2e3",
   "metadata": {},
   "outputs": [
    {
     "data": {
      "text/html": [
       "<div>\n",
       "<style scoped>\n",
       "    .dataframe tbody tr th:only-of-type {\n",
       "        vertical-align: middle;\n",
       "    }\n",
       "\n",
       "    .dataframe tbody tr th {\n",
       "        vertical-align: top;\n",
       "    }\n",
       "\n",
       "    .dataframe thead th {\n",
       "        text-align: right;\n",
       "    }\n",
       "</style>\n",
       "<table border=\"1\" class=\"dataframe\">\n",
       "  <thead>\n",
       "    <tr style=\"text-align: right;\">\n",
       "      <th></th>\n",
       "      <th>categoryId</th>\n",
       "      <th>categoryTitle</th>\n",
       "      <th>video_id</th>\n",
       "      <th>videoTitle</th>\n",
       "      <th>publishedAt</th>\n",
       "      <th>channelId</th>\n",
       "      <th>channelTitle</th>\n",
       "      <th>trending_date</th>\n",
       "      <th>tags</th>\n",
       "      <th>view_count</th>\n",
       "      <th>likes</th>\n",
       "      <th>dislikes</th>\n",
       "      <th>comment_count</th>\n",
       "      <th>thumbnail_link</th>\n",
       "      <th>comments_disabled</th>\n",
       "      <th>ratings_disabled</th>\n",
       "      <th>description</th>\n",
       "      <th>year</th>\n",
       "      <th>month</th>\n",
       "    </tr>\n",
       "  </thead>\n",
       "  <tbody>\n",
       "    <tr>\n",
       "      <th>0</th>\n",
       "      <td>1</td>\n",
       "      <td>Film &amp; Animation</td>\n",
       "      <td>OZBGEjij094</td>\n",
       "      <td>KYA BAAT AA | VLOG | KARAN AUJLA | TANIA |   S...</td>\n",
       "      <td>2020-08-11 09:47:34</td>\n",
       "      <td>UCJ4NUXlZF2RoRK3N1K4HoRw</td>\n",
       "      <td>Sukh Sanghera</td>\n",
       "      <td>2020-08-12</td>\n",
       "      <td>karanaujala|sidhumoosewala|kyabaate|mankirtaul...</td>\n",
       "      <td>766658.0</td>\n",
       "      <td>70544.0</td>\n",
       "      <td>1456.0</td>\n",
       "      <td>3267.0</td>\n",
       "      <td>https://i.ytimg.com/vi/OZBGEjij094/default.jpg</td>\n",
       "      <td>False</td>\n",
       "      <td>False</td>\n",
       "      <td>You Can Contact Us \\r\\rEmail - ten.plusone@hot...</td>\n",
       "      <td>2020</td>\n",
       "      <td>8</td>\n",
       "    </tr>\n",
       "    <tr>\n",
       "      <th>3</th>\n",
       "      <td>1</td>\n",
       "      <td>Film &amp; Animation</td>\n",
       "      <td>OZBGEjij094</td>\n",
       "      <td>KYA BAAT AA | VLOG | KARAN AUJLA | TANIA |   S...</td>\n",
       "      <td>2020-08-11 09:47:34</td>\n",
       "      <td>UCJ4NUXlZF2RoRK3N1K4HoRw</td>\n",
       "      <td>Sukh Sanghera</td>\n",
       "      <td>2020-08-14</td>\n",
       "      <td>karanaujala|sidhumoosewala|kyabaate|mankirtaul...</td>\n",
       "      <td>1227528.0</td>\n",
       "      <td>95347.0</td>\n",
       "      <td>2294.0</td>\n",
       "      <td>4096.0</td>\n",
       "      <td>https://i.ytimg.com/vi/OZBGEjij094/default.jpg</td>\n",
       "      <td>False</td>\n",
       "      <td>False</td>\n",
       "      <td>You Can Contact Us \\r\\rEmail - ten.plusone@hot...</td>\n",
       "      <td>2020</td>\n",
       "      <td>8</td>\n",
       "    </tr>\n",
       "  </tbody>\n",
       "</table>\n",
       "</div>"
      ],
      "text/plain": [
       "   categoryId     categoryTitle     video_id  \\\n",
       "0           1  Film & Animation  OZBGEjij094   \n",
       "3           1  Film & Animation  OZBGEjij094   \n",
       "\n",
       "                                          videoTitle         publishedAt  \\\n",
       "0  KYA BAAT AA | VLOG | KARAN AUJLA | TANIA |   S... 2020-08-11 09:47:34   \n",
       "3  KYA BAAT AA | VLOG | KARAN AUJLA | TANIA |   S... 2020-08-11 09:47:34   \n",
       "\n",
       "                  channelId   channelTitle trending_date  \\\n",
       "0  UCJ4NUXlZF2RoRK3N1K4HoRw  Sukh Sanghera    2020-08-12   \n",
       "3  UCJ4NUXlZF2RoRK3N1K4HoRw  Sukh Sanghera    2020-08-14   \n",
       "\n",
       "                                                tags  view_count    likes  \\\n",
       "0  karanaujala|sidhumoosewala|kyabaate|mankirtaul...    766658.0  70544.0   \n",
       "3  karanaujala|sidhumoosewala|kyabaate|mankirtaul...   1227528.0  95347.0   \n",
       "\n",
       "   dislikes  comment_count                                  thumbnail_link  \\\n",
       "0    1456.0         3267.0  https://i.ytimg.com/vi/OZBGEjij094/default.jpg   \n",
       "3    2294.0         4096.0  https://i.ytimg.com/vi/OZBGEjij094/default.jpg   \n",
       "\n",
       "  comments_disabled ratings_disabled  \\\n",
       "0             False            False   \n",
       "3             False            False   \n",
       "\n",
       "                                         description  year  month  \n",
       "0  You Can Contact Us \\r\\rEmail - ten.plusone@hot...  2020      8  \n",
       "3  You Can Contact Us \\r\\rEmail - ten.plusone@hot...  2020      8  "
      ]
     },
     "execution_count": 36,
     "metadata": {},
     "output_type": "execute_result"
    }
   ],
   "source": [
    "youtube['year']  = youtube['year'].astype(int)\n",
    "youtube['month'] = youtube['month'].astype(int)\n",
    "youtube.head(2)"
   ]
  },
  {
   "cell_type": "markdown",
   "id": "a672793a",
   "metadata": {},
   "source": [
    "### 4. Analysis for Duplicates\n",
    "\n",
    "#### Note: \n",
    "Here, We found that each 'videotitle' has multiple 'view_count' for different 'trending_date' as view_count for current date is sum of all previous dates with current date so we have to consider max for latest view_count and We have used nunique() instead of count() to count the distinct number of videos due to duplicate 'videotitles' in the dataframe 'youtube'.\n",
    "\n",
    "I saw this by analyzing it below for 'videotitle' BTS."
   ]
  },
  {
   "cell_type": "code",
   "execution_count": 37,
   "id": "3e8340b9",
   "metadata": {},
   "outputs": [
    {
     "data": {
      "text/html": [
       "<div>\n",
       "<style scoped>\n",
       "    .dataframe tbody tr th:only-of-type {\n",
       "        vertical-align: middle;\n",
       "    }\n",
       "\n",
       "    .dataframe tbody tr th {\n",
       "        vertical-align: top;\n",
       "    }\n",
       "\n",
       "    .dataframe thead th {\n",
       "        text-align: right;\n",
       "    }\n",
       "</style>\n",
       "<table border=\"1\" class=\"dataframe\">\n",
       "  <thead>\n",
       "    <tr style=\"text-align: right;\">\n",
       "      <th></th>\n",
       "      <th>categoryId</th>\n",
       "      <th>categoryTitle</th>\n",
       "      <th>video_id</th>\n",
       "      <th>videoTitle</th>\n",
       "      <th>publishedAt</th>\n",
       "      <th>channelId</th>\n",
       "      <th>channelTitle</th>\n",
       "      <th>trending_date</th>\n",
       "      <th>tags</th>\n",
       "      <th>view_count</th>\n",
       "      <th>likes</th>\n",
       "      <th>dislikes</th>\n",
       "      <th>comment_count</th>\n",
       "      <th>thumbnail_link</th>\n",
       "      <th>comments_disabled</th>\n",
       "      <th>ratings_disabled</th>\n",
       "      <th>description</th>\n",
       "      <th>year</th>\n",
       "      <th>month</th>\n",
       "    </tr>\n",
       "  </thead>\n",
       "  <tbody>\n",
       "    <tr>\n",
       "      <th>5021</th>\n",
       "      <td>10</td>\n",
       "      <td>Music</td>\n",
       "      <td>gdZLi9oWNZg</td>\n",
       "      <td>BTS (방탄소년단) 'Dynamite' Official MV</td>\n",
       "      <td>2020-08-21 03:58:10</td>\n",
       "      <td>UC3IZKseVpdzPSBaWxBxundA</td>\n",
       "      <td>Big Hit Labels</td>\n",
       "      <td>2020-08-21</td>\n",
       "      <td>BIGHIT|빅히트|방탄소년단|BTS|BANGTAN|방탄</td>\n",
       "      <td>57229275.0</td>\n",
       "      <td>7046197.0</td>\n",
       "      <td>165439.0</td>\n",
       "      <td>2311621.0</td>\n",
       "      <td>https://i.ytimg.com/vi/gdZLi9oWNZg/default.jpg</td>\n",
       "      <td>False</td>\n",
       "      <td>False</td>\n",
       "      <td>BTS (방탄소년단) 'Dynamite' Official MVCredits:Dire...</td>\n",
       "      <td>2020</td>\n",
       "      <td>8</td>\n",
       "    </tr>\n",
       "    <tr>\n",
       "      <th>5068</th>\n",
       "      <td>10</td>\n",
       "      <td>Music</td>\n",
       "      <td>gdZLi9oWNZg</td>\n",
       "      <td>BTS (방탄소년단) 'Dynamite' Official MV</td>\n",
       "      <td>2020-08-21 03:58:10</td>\n",
       "      <td>UC3IZKseVpdzPSBaWxBxundA</td>\n",
       "      <td>Big Hit Labels</td>\n",
       "      <td>2020-08-22</td>\n",
       "      <td>BIGHIT|빅히트|방탄소년단|BTS|BANGTAN|방탄</td>\n",
       "      <td>126375269.0</td>\n",
       "      <td>9887863.0</td>\n",
       "      <td>364082.0</td>\n",
       "      <td>4907583.0</td>\n",
       "      <td>https://i.ytimg.com/vi/gdZLi9oWNZg/default.jpg</td>\n",
       "      <td>False</td>\n",
       "      <td>False</td>\n",
       "      <td>BTS (방탄소년단) 'Dynamite' Official MVCredits:Dire...</td>\n",
       "      <td>2020</td>\n",
       "      <td>8</td>\n",
       "    </tr>\n",
       "    <tr>\n",
       "      <th>5117</th>\n",
       "      <td>10</td>\n",
       "      <td>Music</td>\n",
       "      <td>gdZLi9oWNZg</td>\n",
       "      <td>BTS (방탄소년단) 'Dynamite' Official MV</td>\n",
       "      <td>2020-08-21 03:58:10</td>\n",
       "      <td>UC3IZKseVpdzPSBaWxBxundA</td>\n",
       "      <td>Big Hit Labels</td>\n",
       "      <td>2020-08-23</td>\n",
       "      <td>BIGHIT|빅히트|방탄소년단|BTS|BANGTAN|방탄</td>\n",
       "      <td>160520905.0</td>\n",
       "      <td>14134536.0</td>\n",
       "      <td>505300.0</td>\n",
       "      <td>5452105.0</td>\n",
       "      <td>https://i.ytimg.com/vi/gdZLi9oWNZg/default.jpg</td>\n",
       "      <td>False</td>\n",
       "      <td>False</td>\n",
       "      <td>BTS (방탄소년단) 'Dynamite' Official MVCredits:Dire...</td>\n",
       "      <td>2020</td>\n",
       "      <td>8</td>\n",
       "    </tr>\n",
       "    <tr>\n",
       "      <th>5164</th>\n",
       "      <td>10</td>\n",
       "      <td>Music</td>\n",
       "      <td>gdZLi9oWNZg</td>\n",
       "      <td>BTS (방탄소년단) 'Dynamite' Official MV</td>\n",
       "      <td>2020-08-21 03:58:10</td>\n",
       "      <td>UC3IZKseVpdzPSBaWxBxundA</td>\n",
       "      <td>Big Hit Labels</td>\n",
       "      <td>2020-08-24</td>\n",
       "      <td>BIGHIT|빅히트|방탄소년단|BTS|BANGTAN|방탄</td>\n",
       "      <td>183414472.0</td>\n",
       "      <td>14678102.0</td>\n",
       "      <td>576855.0</td>\n",
       "      <td>5748648.0</td>\n",
       "      <td>https://i.ytimg.com/vi/gdZLi9oWNZg/default.jpg</td>\n",
       "      <td>False</td>\n",
       "      <td>False</td>\n",
       "      <td>BTS (방탄소년단) 'Dynamite' Official MVCredits:Dire...</td>\n",
       "      <td>2020</td>\n",
       "      <td>8</td>\n",
       "    </tr>\n",
       "    <tr>\n",
       "      <th>5206</th>\n",
       "      <td>10</td>\n",
       "      <td>Music</td>\n",
       "      <td>gdZLi9oWNZg</td>\n",
       "      <td>BTS (방탄소년단) 'Dynamite' Official MV</td>\n",
       "      <td>2020-08-21 03:58:10</td>\n",
       "      <td>UC3IZKseVpdzPSBaWxBxundA</td>\n",
       "      <td>Big Hit Labels</td>\n",
       "      <td>2020-08-25</td>\n",
       "      <td>BIGHIT|빅히트|방탄소년단|BTS|BANGTAN|방탄</td>\n",
       "      <td>200692965.0</td>\n",
       "      <td>14994040.0</td>\n",
       "      <td>621585.0</td>\n",
       "      <td>5623663.0</td>\n",
       "      <td>https://i.ytimg.com/vi/gdZLi9oWNZg/default.jpg</td>\n",
       "      <td>False</td>\n",
       "      <td>False</td>\n",
       "      <td>BTS (방탄소년단) 'Dynamite' Official MVCredits:Dire...</td>\n",
       "      <td>2020</td>\n",
       "      <td>8</td>\n",
       "    </tr>\n",
       "  </tbody>\n",
       "</table>\n",
       "</div>"
      ],
      "text/plain": [
       "      categoryId categoryTitle     video_id  \\\n",
       "5021          10         Music  gdZLi9oWNZg   \n",
       "5068          10         Music  gdZLi9oWNZg   \n",
       "5117          10         Music  gdZLi9oWNZg   \n",
       "5164          10         Music  gdZLi9oWNZg   \n",
       "5206          10         Music  gdZLi9oWNZg   \n",
       "\n",
       "                              videoTitle         publishedAt  \\\n",
       "5021  BTS (방탄소년단) 'Dynamite' Official MV 2020-08-21 03:58:10   \n",
       "5068  BTS (방탄소년단) 'Dynamite' Official MV 2020-08-21 03:58:10   \n",
       "5117  BTS (방탄소년단) 'Dynamite' Official MV 2020-08-21 03:58:10   \n",
       "5164  BTS (방탄소년단) 'Dynamite' Official MV 2020-08-21 03:58:10   \n",
       "5206  BTS (방탄소년단) 'Dynamite' Official MV 2020-08-21 03:58:10   \n",
       "\n",
       "                     channelId    channelTitle trending_date  \\\n",
       "5021  UC3IZKseVpdzPSBaWxBxundA  Big Hit Labels    2020-08-21   \n",
       "5068  UC3IZKseVpdzPSBaWxBxundA  Big Hit Labels    2020-08-22   \n",
       "5117  UC3IZKseVpdzPSBaWxBxundA  Big Hit Labels    2020-08-23   \n",
       "5164  UC3IZKseVpdzPSBaWxBxundA  Big Hit Labels    2020-08-24   \n",
       "5206  UC3IZKseVpdzPSBaWxBxundA  Big Hit Labels    2020-08-25   \n",
       "\n",
       "                                 tags   view_count       likes  dislikes  \\\n",
       "5021  BIGHIT|빅히트|방탄소년단|BTS|BANGTAN|방탄   57229275.0   7046197.0  165439.0   \n",
       "5068  BIGHIT|빅히트|방탄소년단|BTS|BANGTAN|방탄  126375269.0   9887863.0  364082.0   \n",
       "5117  BIGHIT|빅히트|방탄소년단|BTS|BANGTAN|방탄  160520905.0  14134536.0  505300.0   \n",
       "5164  BIGHIT|빅히트|방탄소년단|BTS|BANGTAN|방탄  183414472.0  14678102.0  576855.0   \n",
       "5206  BIGHIT|빅히트|방탄소년단|BTS|BANGTAN|방탄  200692965.0  14994040.0  621585.0   \n",
       "\n",
       "      comment_count                                  thumbnail_link  \\\n",
       "5021      2311621.0  https://i.ytimg.com/vi/gdZLi9oWNZg/default.jpg   \n",
       "5068      4907583.0  https://i.ytimg.com/vi/gdZLi9oWNZg/default.jpg   \n",
       "5117      5452105.0  https://i.ytimg.com/vi/gdZLi9oWNZg/default.jpg   \n",
       "5164      5748648.0  https://i.ytimg.com/vi/gdZLi9oWNZg/default.jpg   \n",
       "5206      5623663.0  https://i.ytimg.com/vi/gdZLi9oWNZg/default.jpg   \n",
       "\n",
       "     comments_disabled ratings_disabled  \\\n",
       "5021             False            False   \n",
       "5068             False            False   \n",
       "5117             False            False   \n",
       "5164             False            False   \n",
       "5206             False            False   \n",
       "\n",
       "                                            description  year  month  \n",
       "5021  BTS (방탄소년단) 'Dynamite' Official MVCredits:Dire...  2020      8  \n",
       "5068  BTS (방탄소년단) 'Dynamite' Official MVCredits:Dire...  2020      8  \n",
       "5117  BTS (방탄소년단) 'Dynamite' Official MVCredits:Dire...  2020      8  \n",
       "5164  BTS (방탄소년단) 'Dynamite' Official MVCredits:Dire...  2020      8  \n",
       "5206  BTS (방탄소년단) 'Dynamite' Official MVCredits:Dire...  2020      8  "
      ]
     },
     "execution_count": 37,
     "metadata": {},
     "output_type": "execute_result"
    }
   ],
   "source": [
    "BTS = youtube[youtube[\"videoTitle\"] == \"BTS (방탄소년단) 'Dynamite' Official MV\"]\n",
    "BTS.head()\n",
    "\n",
    "#or,\n",
    "#youtube.loc[youtube['videoTitle']==\"BTS (방탄소년단) 'Dynamite' Official MV\"].head(2)"
   ]
  },
  {
   "cell_type": "code",
   "execution_count": 38,
   "id": "ce9c45a4",
   "metadata": {},
   "outputs": [
    {
     "data": {
      "text/html": [
       "<div>\n",
       "<style scoped>\n",
       "    .dataframe tbody tr th:only-of-type {\n",
       "        vertical-align: middle;\n",
       "    }\n",
       "\n",
       "    .dataframe tbody tr th {\n",
       "        vertical-align: top;\n",
       "    }\n",
       "\n",
       "    .dataframe thead th {\n",
       "        text-align: right;\n",
       "    }\n",
       "</style>\n",
       "<table border=\"1\" class=\"dataframe\">\n",
       "  <thead>\n",
       "    <tr style=\"text-align: right;\">\n",
       "      <th></th>\n",
       "      <th>videoTitle</th>\n",
       "      <th>view_count</th>\n",
       "    </tr>\n",
       "  </thead>\n",
       "  <tbody>\n",
       "    <tr>\n",
       "      <th>0</th>\n",
       "      <td>BTS (방탄소년단) 'Dynamite' Official MV</td>\n",
       "      <td>253995993.0</td>\n",
       "    </tr>\n",
       "  </tbody>\n",
       "</table>\n",
       "</div>"
      ],
      "text/plain": [
       "                           videoTitle   view_count\n",
       "0  BTS (방탄소년단) 'Dynamite' Official MV  253995993.0"
      ]
     },
     "execution_count": 38,
     "metadata": {},
     "output_type": "execute_result"
    }
   ],
   "source": [
    " BTS.groupby(['videoTitle'], sort=False)['view_count'].max().reset_index()"
   ]
  },
  {
   "cell_type": "markdown",
   "id": "a257f6f2",
   "metadata": {},
   "source": [
    "# 2. Exploratory Data Analysis (EDA)\n",
    "### Data Visualiazation\n",
    "### Data Analysis"
   ]
  },
  {
   "cell_type": "markdown",
   "id": "6bce5643",
   "metadata": {},
   "source": [
    "## *2.1a. Top 5 categories with highest number of videos*"
   ]
  },
  {
   "cell_type": "code",
   "execution_count": 39,
   "id": "666b1422",
   "metadata": {},
   "outputs": [
    {
     "data": {
      "text/html": [
       "<div>\n",
       "<style scoped>\n",
       "    .dataframe tbody tr th:only-of-type {\n",
       "        vertical-align: middle;\n",
       "    }\n",
       "\n",
       "    .dataframe tbody tr th {\n",
       "        vertical-align: top;\n",
       "    }\n",
       "\n",
       "    .dataframe thead th {\n",
       "        text-align: right;\n",
       "    }\n",
       "</style>\n",
       "<table border=\"1\" class=\"dataframe\">\n",
       "  <thead>\n",
       "    <tr style=\"text-align: right;\">\n",
       "      <th></th>\n",
       "      <th>categoryTitle</th>\n",
       "      <th>video_count</th>\n",
       "    </tr>\n",
       "  </thead>\n",
       "  <tbody>\n",
       "    <tr>\n",
       "      <th>0</th>\n",
       "      <td>Entertainment</td>\n",
       "      <td>18988</td>\n",
       "    </tr>\n",
       "    <tr>\n",
       "      <th>1</th>\n",
       "      <td>People &amp; Blogs</td>\n",
       "      <td>6273</td>\n",
       "    </tr>\n",
       "    <tr>\n",
       "      <th>2</th>\n",
       "      <td>Music</td>\n",
       "      <td>5362</td>\n",
       "    </tr>\n",
       "    <tr>\n",
       "      <th>3</th>\n",
       "      <td>Comedy</td>\n",
       "      <td>3000</td>\n",
       "    </tr>\n",
       "    <tr>\n",
       "      <th>4</th>\n",
       "      <td>Gaming</td>\n",
       "      <td>2684</td>\n",
       "    </tr>\n",
       "  </tbody>\n",
       "</table>\n",
       "</div>"
      ],
      "text/plain": [
       "    categoryTitle  video_count\n",
       "0   Entertainment        18988\n",
       "1  People & Blogs         6273\n",
       "2           Music         5362\n",
       "3          Comedy         3000\n",
       "4          Gaming         2684"
      ]
     },
     "execution_count": 39,
     "metadata": {},
     "output_type": "execute_result"
    }
   ],
   "source": [
    "v1a = youtube.groupby(['categoryTitle'])['video_id'].nunique().sort_values(ascending=False).reset_index().rename(columns={\"video_id\":\"video_count\"}).head()\n",
    "v1a"
   ]
  },
  {
   "cell_type": "markdown",
   "id": "b7664e74",
   "metadata": {},
   "source": [
    "### Matplotlib"
   ]
  },
  {
   "cell_type": "code",
   "execution_count": 40,
   "id": "bd9bf3e6",
   "metadata": {},
   "outputs": [
    {
     "data": {
      "image/png": "[encoded data removed]",
      "text/plain": [
       "<Figure size 1500x700 with 1 Axes>"
      ]
     },
     "metadata": {},
     "output_type": "display_data"
    }
   ],
   "source": [
    "x = v1a['categoryTitle']\n",
    "y = v1a['video_count']\n",
    "\n",
    "\n",
    "plt.figure(figsize=(15, 7))               #plt.figure().set_figwidth(15)\n",
    "plt.title(\"Top 5 Categories with Highest Number of Videos\",fontsize=14,color='r')\n",
    "plt.xlabel(\"Category\",fontsize=12,color='b')\n",
    "plt.ylabel(\"Total Videos\",fontsize=12,color='b')\n",
    "plt.bar(x,y,color=\"g\", width=0.5)\n",
    "for i, v in enumerate(y):\n",
    "    plt.text(i,v+200, str(v), ha = 'center', size=12, color='black') #weight=\"bold\"\n",
    "    \n",
    "plt.show()"
   ]
  },
  {
   "cell_type": "markdown",
   "id": "4eea6503",
   "metadata": {},
   "source": [
    "## *2.1b. Top 5 Categories with highest number of channels*"
   ]
  },
  {
   "cell_type": "code",
   "execution_count": 47,
   "id": "81c427c5",
   "metadata": {},
   "outputs": [
    {
     "data": {
      "text/html": [
       "<div>\n",
       "<style scoped>\n",
       "    .dataframe tbody tr th:only-of-type {\n",
       "        vertical-align: middle;\n",
       "    }\n",
       "\n",
       "    .dataframe tbody tr th {\n",
       "        vertical-align: top;\n",
       "    }\n",
       "\n",
       "    .dataframe thead th {\n",
       "        text-align: right;\n",
       "    }\n",
       "</style>\n",
       "<table border=\"1\" class=\"dataframe\">\n",
       "  <thead>\n",
       "    <tr style=\"text-align: right;\">\n",
       "      <th></th>\n",
       "      <th>categoryTitle</th>\n",
       "      <th>total_channels</th>\n",
       "    </tr>\n",
       "  </thead>\n",
       "  <tbody>\n",
       "    <tr>\n",
       "      <th>0</th>\n",
       "      <td>Entertainment</td>\n",
       "      <td>1343</td>\n",
       "    </tr>\n",
       "    <tr>\n",
       "      <th>1</th>\n",
       "      <td>People &amp; Blogs</td>\n",
       "      <td>762</td>\n",
       "    </tr>\n",
       "    <tr>\n",
       "      <th>2</th>\n",
       "      <td>Music</td>\n",
       "      <td>612</td>\n",
       "    </tr>\n",
       "    <tr>\n",
       "      <th>3</th>\n",
       "      <td>Comedy</td>\n",
       "      <td>271</td>\n",
       "    </tr>\n",
       "    <tr>\n",
       "      <th>4</th>\n",
       "      <td>News &amp; Politics</td>\n",
       "      <td>257</td>\n",
       "    </tr>\n",
       "  </tbody>\n",
       "</table>\n",
       "</div>"
      ],
      "text/plain": [
       "     categoryTitle  total_channels\n",
       "0    Entertainment            1343\n",
       "1   People & Blogs             762\n",
       "2            Music             612\n",
       "3           Comedy             271\n",
       "4  News & Politics             257"
      ]
     },
     "execution_count": 47,
     "metadata": {},
     "output_type": "execute_result"
    }
   ],
   "source": [
    "v1b = youtube.groupby([\"categoryTitle\"])['channelTitle'].nunique().sort_values(ascending=False).reset_index().rename(columns={'channelTitle':'total_channels'}).head()\n",
    "v1b"
   ]
  },
  {
   "cell_type": "markdown",
   "id": "6c6df3d8",
   "metadata": {},
   "source": [
    "### Matplotlib"
   ]
  },
  {
   "cell_type": "code",
   "execution_count": 54,
   "id": "5f8e7886",
   "metadata": {},
   "outputs": [
    {
     "data": {
      "image/png": "[encoded data removed]",
      "text/plain": [
       "<Figure size 1200x500 with 1 Axes>"
      ]
     },
     "metadata": {},
     "output_type": "display_data"
    }
   ],
   "source": [
    "x = v1b['categoryTitle']\n",
    "y = v1b['total_channels']\n",
    "\n",
    "plt.figure(figsize=(12, 5))\n",
    "plt.title(\"Top 5 Categories with Highest Number of Channel\",fontsize=14,color='r')\n",
    "plt.ylabel(\"Total Channels\",fontsize=12,color='b')\n",
    "plt.xlabel(\"Category\",fontsize=12,color='b')\n",
    "plt.bar(x,y,color='g')\n",
    "plt.show()"
   ]
  },
  {
   "cell_type": "code",
   "execution_count": null,
   "id": "3f6f2926",
   "metadata": {},
   "outputs": [],
   "source": []
  },
  {
   "cell_type": "code",
   "execution_count": null,
   "id": "13e50802",
   "metadata": {},
   "outputs": [],
   "source": []
  },
  {
   "cell_type": "markdown",
   "id": "6cb6eb4a",
   "metadata": {},
   "source": [
    "## *2.2. Top 10 Channels with highest number of videos*"
   ]
  },
  {
   "cell_type": "code",
   "execution_count": null,
   "id": "6aa67c22",
   "metadata": {},
   "outputs": [],
   "source": [
    "v2 = youtube.groupby(['channelTitle'])['video_id'].nunique().sort_values(ascending=False).head(10)\n",
    "v2"
   ]
  },
  {
   "cell_type": "markdown",
   "id": "6c868d48",
   "metadata": {},
   "source": [
    "### Pandas Plotting"
   ]
  },
  {
   "cell_type": "code",
   "execution_count": null,
   "id": "28cad559",
   "metadata": {},
   "outputs": [],
   "source": [
    "v2.plot(kind = 'bar', xlabel='Channel Name', ylabel='Total Videos', figsize=(12, 4), color='g')\n",
    "plt.show()"
   ]
  },
  {
   "cell_type": "markdown",
   "id": "679f4926",
   "metadata": {},
   "source": [
    "## *2.3. Top 5 Most watched videos*"
   ]
  },
  {
   "cell_type": "code",
   "execution_count": null,
   "id": "8df41259",
   "metadata": {},
   "outputs": [],
   "source": [
    "v3 = youtube.groupby(['videoTitle'])['view_count'].max().sort_values(ascending=False).head(5).reset_index()\n",
    "v3"
   ]
  },
  {
   "cell_type": "markdown",
   "id": "e33c159e",
   "metadata": {},
   "source": [
    "### Matplotlib"
   ]
  },
  {
   "cell_type": "code",
   "execution_count": null,
   "id": "86c0499c",
   "metadata": {},
   "outputs": [],
   "source": [
    "x = v3[\"videoTitle\"]\n",
    "y = v3[\"view_count\"]\n",
    "\n",
    "plt.figure(figsize=(5, 5))\n",
    "plt.title(\"Top 5 Most Watched Videos\",fontsize=14,color='r')\n",
    "plt.ylabel(\"Video Name\",fontsize=12,color='b')\n",
    "plt.xlabel(\"Total Views\",fontsize=12,color='b')\n",
    "plt.barh(x,y,color='g')\n",
    "plt.show()"
   ]
  },
  {
   "cell_type": "markdown",
   "id": "ce1f38d4",
   "metadata": {},
   "source": [
    "## *2.4. MOM Trend for published videos*"
   ]
  },
  {
   "cell_type": "markdown",
   "id": "6a2d4a19",
   "metadata": {},
   "source": [
    "Here, year & month column has data type of float and both has null values so we have to first remove null values then will convert datatype float to int."
   ]
  },
  {
   "cell_type": "code",
   "execution_count": null,
   "id": "0833cce8",
   "metadata": {},
   "outputs": [],
   "source": [
    "v4 = youtube.groupby([\"month\"])[\"video_id\"].nunique().reset_index().rename(columns={\"video_id\" :\"published_videos\"}) #.sort_values(by=[\"video_id\"],ascending=False)\n",
    "v4"
   ]
  },
  {
   "cell_type": "markdown",
   "id": "a9a42f29",
   "metadata": {},
   "source": [
    "### Matplotlib"
   ]
  },
  {
   "cell_type": "code",
   "execution_count": null,
   "id": "5ff0fd52",
   "metadata": {},
   "outputs": [],
   "source": [
    "x = v4[\"month\"]\n",
    "y = v4[\"published_videos\"]\n",
    "\n",
    "plt.figure(figsize=(12,5))\n",
    "plt.title(\"MOM Trend for Published Videos\",color='r',size=14)\n",
    "plt.xlabel(\"Month\",color='b',size=12)\n",
    "plt.ylabel(\"Total Videos\",color='b',size=12)\n",
    "plt.plot(x,y,color=\"g\")\n",
    "plt.show()"
   ]
  },
  {
   "cell_type": "markdown",
   "id": "61196717",
   "metadata": {},
   "source": [
    "## *2.5. MOM Trend for published videos for years*"
   ]
  },
  {
   "cell_type": "code",
   "execution_count": null,
   "id": "81520489",
   "metadata": {},
   "outputs": [],
   "source": [
    "v5 = youtube.groupby([\"year\",\"month\"])[\"video_id\"].nunique().reset_index() #.sort_values(by=[\"video_id\"],ascending=False)\n",
    "v5"
   ]
  },
  {
   "cell_type": "markdown",
   "id": "2c2a7205",
   "metadata": {},
   "source": [
    "### Matplotlib"
   ]
  },
  {
   "cell_type": "code",
   "execution_count": null,
   "id": "6075a0e1",
   "metadata": {},
   "outputs": [],
   "source": [
    "# x = v4[\"month\"]\n",
    "# y = v4[\"video_id\"]\n",
    "\n",
    "\n",
    "# # plt.title(\"MOM Trend\")\n",
    "# # plt.xlabel(\"month\")\n",
    "# # plt.ylabel(\"total videos\")\n",
    "# plt.figure(figsize=(12,4))\n",
    "# plt.plot(x,y,color=\"g\")\n",
    "# plt.show()"
   ]
  },
  {
   "cell_type": "markdown",
   "id": "b7389135",
   "metadata": {},
   "source": [
    "### Pandas Plotting"
   ]
  },
  {
   "cell_type": "code",
   "execution_count": null,
   "id": "78760e88",
   "metadata": {},
   "outputs": [],
   "source": [
    "v5.set_index('month', inplace=True)\n",
    "v5.groupby('year')['video_id'].plot(legend=True)"
   ]
  },
  {
   "cell_type": "markdown",
   "id": "8ca20f7f",
   "metadata": {},
   "source": [
    "## 2.6. Distrubution of Videos over Years"
   ]
  },
  {
   "cell_type": "code",
   "execution_count": null,
   "id": "eab51982",
   "metadata": {},
   "outputs": [],
   "source": [
    "v6 = youtube.groupby(['year'])['video_id'].nunique().reset_index().rename(columns={\"video_id\" :\"total_videos\"})\n",
    "v6"
   ]
  },
  {
   "cell_type": "code",
   "execution_count": null,
   "id": "0403223f",
   "metadata": {},
   "outputs": [],
   "source": [
    "x = v6[\"year\"]\n",
    "y = v6[\"total_videos\"]\n",
    "\n",
    "plt.figure(figsize=(12,5))\n",
    "plt.title(\"Distrubution of Videos over Years\",color='r',size=14)\n",
    "                                                                      #mycolors = [\"orange\", \"blue\", \"green\", ]\n",
    "plt.pie(y, labels = x)                                                #, colors = mycolors)\n",
    "#plt.legend(title = \"Years:\")\n",
    "plt.show()"
   ]
  },
  {
   "cell_type": "code",
   "execution_count": null,
   "id": "5ea61629",
   "metadata": {},
   "outputs": [],
   "source": [
    "list(youtube.columns)"
   ]
  }
 ],
 "metadata": {
  "kernelspec": {
   "display_name": "Python 3 (ipykernel)",
   "language": "python",
   "name": "python3"
  },
  "language_info": {
   "codemirror_mode": {
    "name": "ipython",
    "version": 3
   },
   "file_extension": ".py",
   "mimetype": "text/x-python",
   "name": "python",
   "nbconvert_exporter": "python",
   "pygments_lexer": "ipython3",
   "version": "3.10.6"
  }
 },
 "nbformat": 4,
 "nbformat_minor": 5
}
