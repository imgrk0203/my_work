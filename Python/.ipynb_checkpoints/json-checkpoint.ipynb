{
 "cells": [
  {
   "cell_type": "markdown",
   "id": "0415bc6d",
   "metadata": {},
   "source": [
    "# Data Analysis: Generate Insights Like A Pro In 7 Steps\n",
    "### Step 1: Understanding the business problem.\n",
    "### Step 2: Analyze data requirements.\n",
    "### Step 3: Data understanding and collection (Data Gathering)\n",
    "### Step 4: Data Preparation (Data Transformation)\n",
    "> Data is usually inclusive of missing values, inaccuracies, and other errors. Hence error correction, verifying the data quality, and joining the data sets together are a big part of the data preparation process.\n",
    "\n",
    "#### The additional two steps of data preparation are:\n",
    "\n",
    "1. Converting the collected data to a structured format with all required elements.\n",
    "2. Cleaning it to remove unwanted substances.\n",
    "3. Data Modelling (ERD)\n",
    "\n",
    "### Step 5: Data visualization.\n",
    "### Step 6: Data analysis.\n",
    "### Step 7: Deployment."
   ]
  },
  {
   "cell_type": "code",
   "execution_count": 1,
   "id": "89b8fd98",
   "metadata": {},
   "outputs": [],
   "source": [
    "import numpy as np\n",
    "import pandas as pd\n",
    "import matplotlib.pyplot as plt\n",
    "import json"
   ]
  },
  {
   "cell_type": "markdown",
   "id": "9d4b0e22",
   "metadata": {},
   "source": [
    "# 1. Data Gathering, Transformation & Explanation"
   ]
  },
  {
   "cell_type": "markdown",
   "id": "85296293",
   "metadata": {},
   "source": [
    "### Reading first .json format file from local"
   ]
  },
  {
   "cell_type": "code",
   "execution_count": 2,
   "id": "d1e9561e",
   "metadata": {},
   "outputs": [
    {
     "data": {
      "text/html": [
       "<div>\n",
       "<style scoped>\n",
       "    .dataframe tbody tr th:only-of-type {\n",
       "        vertical-align: middle;\n",
       "    }\n",
       "\n",
       "    .dataframe tbody tr th {\n",
       "        vertical-align: top;\n",
       "    }\n",
       "\n",
       "    .dataframe thead th {\n",
       "        text-align: right;\n",
       "    }\n",
       "</style>\n",
       "<table border=\"1\" class=\"dataframe\">\n",
       "  <thead>\n",
       "    <tr style=\"text-align: right;\">\n",
       "      <th></th>\n",
       "      <th>kind</th>\n",
       "      <th>etag</th>\n",
       "      <th>items</th>\n",
       "    </tr>\n",
       "  </thead>\n",
       "  <tbody>\n",
       "    <tr>\n",
       "      <th>0</th>\n",
       "      <td>youtube#videoCategoryListResponse</td>\n",
       "      <td>kBCr3I9kLHHU79W4Ip5196LDptI</td>\n",
       "      <td>{'kind': 'youtube#videoCategory', 'etag': 'IfW...</td>\n",
       "    </tr>\n",
       "    <tr>\n",
       "      <th>1</th>\n",
       "      <td>youtube#videoCategoryListResponse</td>\n",
       "      <td>kBCr3I9kLHHU79W4Ip5196LDptI</td>\n",
       "      <td>{'kind': 'youtube#videoCategory', 'etag': '5XG...</td>\n",
       "    </tr>\n",
       "  </tbody>\n",
       "</table>\n",
       "</div>"
      ],
      "text/plain": [
       "                                kind                         etag  \\\n",
       "0  youtube#videoCategoryListResponse  kBCr3I9kLHHU79W4Ip5196LDptI   \n",
       "1  youtube#videoCategoryListResponse  kBCr3I9kLHHU79W4Ip5196LDptI   \n",
       "\n",
       "                                               items  \n",
       "0  {'kind': 'youtube#videoCategory', 'etag': 'IfW...  \n",
       "1  {'kind': 'youtube#videoCategory', 'etag': '5XG...  "
      ]
     },
     "execution_count": 2,
     "metadata": {},
     "output_type": "execute_result"
    }
   ],
   "source": [
    "# Opening JSON file\n",
    "f = open(\"/home/gaurav/Documents/Python/data/YouTube(IN)/IN_category_id.json\")\n",
    "  \n",
    "# returns JSON object as a dictionary\n",
    "data = json.load(f)\n",
    "\n",
    "# Creating Dataframe of json data\n",
    "df01 = pd.DataFrame(data)\n",
    "df01.head(2)"
   ]
  },
  {
   "cell_type": "markdown",
   "id": "8ee63141",
   "metadata": {},
   "source": [
    "### Creating Dataframe of flattened json data"
   ]
  },
  {
   "cell_type": "code",
   "execution_count": 66,
   "id": "229db13b",
   "metadata": {},
   "outputs": [
    {
     "data": {
      "text/html": [
       "<div>\n",
       "<style scoped>\n",
       "    .dataframe tbody tr th:only-of-type {\n",
       "        vertical-align: middle;\n",
       "    }\n",
       "\n",
       "    .dataframe tbody tr th {\n",
       "        vertical-align: top;\n",
       "    }\n",
       "\n",
       "    .dataframe thead th {\n",
       "        text-align: right;\n",
       "    }\n",
       "</style>\n",
       "<table border=\"1\" class=\"dataframe\">\n",
       "  <thead>\n",
       "    <tr style=\"text-align: right;\">\n",
       "      <th></th>\n",
       "      <th>kind</th>\n",
       "      <th>etag</th>\n",
       "      <th>id</th>\n",
       "      <th>snippet.title</th>\n",
       "      <th>snippet.assignable</th>\n",
       "      <th>snippet.channelId</th>\n",
       "    </tr>\n",
       "  </thead>\n",
       "  <tbody>\n",
       "    <tr>\n",
       "      <th>0</th>\n",
       "      <td>youtube#videoCategory</td>\n",
       "      <td>IfWa37JGcqZs-jZeAyFGkbeh6bc</td>\n",
       "      <td>1</td>\n",
       "      <td>Film &amp; Animation</td>\n",
       "      <td>True</td>\n",
       "      <td>UCBR8-60-B28hp2BmDPdntcQ</td>\n",
       "    </tr>\n",
       "    <tr>\n",
       "      <th>1</th>\n",
       "      <td>youtube#videoCategory</td>\n",
       "      <td>5XGylIs7zkjHh5940dsT5862m1Y</td>\n",
       "      <td>2</td>\n",
       "      <td>Autos &amp; Vehicles</td>\n",
       "      <td>True</td>\n",
       "      <td>UCBR8-60-B28hp2BmDPdntcQ</td>\n",
       "    </tr>\n",
       "  </tbody>\n",
       "</table>\n",
       "</div>"
      ],
      "text/plain": [
       "                    kind                         etag id     snippet.title  \\\n",
       "0  youtube#videoCategory  IfWa37JGcqZs-jZeAyFGkbeh6bc  1  Film & Animation   \n",
       "1  youtube#videoCategory  5XGylIs7zkjHh5940dsT5862m1Y  2  Autos & Vehicles   \n",
       "\n",
       "   snippet.assignable         snippet.channelId  \n",
       "0                True  UCBR8-60-B28hp2BmDPdntcQ  \n",
       "1                True  UCBR8-60-B28hp2BmDPdntcQ  "
      ]
     },
     "execution_count": 66,
     "metadata": {},
     "output_type": "execute_result"
    }
   ],
   "source": [
    "df1 = pd.json_normalize(data,record_path=['items'])\n",
    "df1.head(2)"
   ]
  },
  {
   "cell_type": "markdown",
   "id": "b8225107",
   "metadata": {},
   "source": [
    "#### Next, Removing kind, etag, snippet.assignable, snippet.channelId  columns because of unwanted for analysis.\n",
    "#### Let's store final usable data into category dataframe & rename also."
   ]
  },
  {
   "cell_type": "code",
   "execution_count": 68,
   "id": "56c9c912",
   "metadata": {},
   "outputs": [],
   "source": [
    "category = df1.drop(['kind', 'etag', 'snippet.assignable','snippet.channelId'], axis=1)"
   ]
  },
  {
   "cell_type": "markdown",
   "id": "3d4f2e90",
   "metadata": {},
   "source": [
    "##### Renaming Columns"
   ]
  },
  {
   "cell_type": "code",
   "execution_count": 69,
   "id": "3544823b",
   "metadata": {},
   "outputs": [
    {
     "data": {
      "text/html": [
       "<div>\n",
       "<style scoped>\n",
       "    .dataframe tbody tr th:only-of-type {\n",
       "        vertical-align: middle;\n",
       "    }\n",
       "\n",
       "    .dataframe tbody tr th {\n",
       "        vertical-align: top;\n",
       "    }\n",
       "\n",
       "    .dataframe thead th {\n",
       "        text-align: right;\n",
       "    }\n",
       "</style>\n",
       "<table border=\"1\" class=\"dataframe\">\n",
       "  <thead>\n",
       "    <tr style=\"text-align: right;\">\n",
       "      <th></th>\n",
       "      <th>Id</th>\n",
       "      <th>Title</th>\n",
       "    </tr>\n",
       "  </thead>\n",
       "  <tbody>\n",
       "    <tr>\n",
       "      <th>0</th>\n",
       "      <td>1</td>\n",
       "      <td>Film &amp; Animation</td>\n",
       "    </tr>\n",
       "    <tr>\n",
       "      <th>1</th>\n",
       "      <td>2</td>\n",
       "      <td>Autos &amp; Vehicles</td>\n",
       "    </tr>\n",
       "  </tbody>\n",
       "</table>\n",
       "</div>"
      ],
      "text/plain": [
       "  Id             Title\n",
       "0  1  Film & Animation\n",
       "1  2  Autos & Vehicles"
      ]
     },
     "execution_count": 69,
     "metadata": {},
     "output_type": "execute_result"
    }
   ],
   "source": [
    "category.rename(columns = {'id':'Id','snippet.title':'Title'}, inplace = True)\n",
    "category.head(2)"
   ]
  },
  {
   "cell_type": "code",
   "execution_count": 56,
   "id": "667f4dc3",
   "metadata": {},
   "outputs": [
    {
     "data": {
      "text/plain": [
       "(31, 2)"
      ]
     },
     "execution_count": 56,
     "metadata": {},
     "output_type": "execute_result"
    }
   ],
   "source": [
    "category.shape"
   ]
  },
  {
   "cell_type": "code",
   "execution_count": 57,
   "id": "437c708f",
   "metadata": {},
   "outputs": [
    {
     "name": "stdout",
     "output_type": "stream",
     "text": [
      "<class 'pandas.core.frame.DataFrame'>\n",
      "RangeIndex: 31 entries, 0 to 30\n",
      "Data columns (total 2 columns):\n",
      " #   Column  Non-Null Count  Dtype \n",
      "---  ------  --------------  ----- \n",
      " 0   Id      31 non-null     object\n",
      " 1   Title   31 non-null     object\n",
      "dtypes: object(2)\n",
      "memory usage: 624.0+ bytes\n"
     ]
    }
   ],
   "source": [
    "category.info()"
   ]
  },
  {
   "cell_type": "code",
   "execution_count": 58,
   "id": "762f4609",
   "metadata": {},
   "outputs": [
    {
     "data": {
      "text/html": [
       "<div>\n",
       "<style scoped>\n",
       "    .dataframe tbody tr th:only-of-type {\n",
       "        vertical-align: middle;\n",
       "    }\n",
       "\n",
       "    .dataframe tbody tr th {\n",
       "        vertical-align: top;\n",
       "    }\n",
       "\n",
       "    .dataframe thead th {\n",
       "        text-align: right;\n",
       "    }\n",
       "</style>\n",
       "<table border=\"1\" class=\"dataframe\">\n",
       "  <thead>\n",
       "    <tr style=\"text-align: right;\">\n",
       "      <th></th>\n",
       "      <th>Id</th>\n",
       "      <th>Title</th>\n",
       "    </tr>\n",
       "  </thead>\n",
       "  <tbody>\n",
       "    <tr>\n",
       "      <th>count</th>\n",
       "      <td>31</td>\n",
       "      <td>31</td>\n",
       "    </tr>\n",
       "    <tr>\n",
       "      <th>unique</th>\n",
       "      <td>31</td>\n",
       "      <td>30</td>\n",
       "    </tr>\n",
       "    <tr>\n",
       "      <th>top</th>\n",
       "      <td>1</td>\n",
       "      <td>Comedy</td>\n",
       "    </tr>\n",
       "    <tr>\n",
       "      <th>freq</th>\n",
       "      <td>1</td>\n",
       "      <td>2</td>\n",
       "    </tr>\n",
       "  </tbody>\n",
       "</table>\n",
       "</div>"
      ],
      "text/plain": [
       "        Id   Title\n",
       "count   31      31\n",
       "unique  31      30\n",
       "top      1  Comedy\n",
       "freq     1       2"
      ]
     },
     "execution_count": 58,
     "metadata": {},
     "output_type": "execute_result"
    }
   ],
   "source": [
    "category.describe()"
   ]
  },
  {
   "cell_type": "code",
   "execution_count": 59,
   "id": "d5f3ba3e",
   "metadata": {},
   "outputs": [
    {
     "data": {
      "text/plain": [
       "Id       31\n",
       "Title    30\n",
       "dtype: int64"
      ]
     },
     "execution_count": 59,
     "metadata": {},
     "output_type": "execute_result"
    }
   ],
   "source": [
    "category.nunique()"
   ]
  },
  {
   "cell_type": "code",
   "execution_count": 60,
   "id": "5989dd39",
   "metadata": {},
   "outputs": [
    {
     "data": {
      "text/plain": [
       "array(['Film & Animation', 'Autos & Vehicles', 'Music', 'Pets & Animals',\n",
       "       'Sports', 'Short Movies', 'Travel & Events', 'Gaming',\n",
       "       'Videoblogging', 'People & Blogs', 'Comedy', 'Entertainment',\n",
       "       'News & Politics', 'Howto & Style', 'Education',\n",
       "       'Science & Technology', 'Movies', 'Anime/Animation',\n",
       "       'Action/Adventure', 'Classics', 'Documentary', 'Drama', 'Family',\n",
       "       'Foreign', 'Horror', 'Sci-Fi/Fantasy', 'Thriller', 'Shorts',\n",
       "       'Shows', 'Trailers'], dtype=object)"
      ]
     },
     "execution_count": 60,
     "metadata": {},
     "output_type": "execute_result"
    }
   ],
   "source": [
    "category['Title'].unique()"
   ]
  },
  {
   "cell_type": "code",
   "execution_count": 63,
   "id": "07603c67",
   "metadata": {},
   "outputs": [
    {
     "data": {
      "text/plain": [
       "0"
      ]
     },
     "execution_count": 63,
     "metadata": {},
     "output_type": "execute_result"
    }
   ],
   "source": [
    "category.duplicated().sum()"
   ]
  },
  {
   "cell_type": "code",
   "execution_count": null,
   "id": "a3098b9e",
   "metadata": {},
   "outputs": [],
   "source": []
  },
  {
   "cell_type": "markdown",
   "id": "38e2fc6f",
   "metadata": {},
   "source": [
    "### Reading Second .csv format file from local"
   ]
  },
  {
   "cell_type": "code",
   "execution_count": 64,
   "id": "51a3741e",
   "metadata": {},
   "outputs": [],
   "source": [
    "df2 = pd.read_csv(\"/home/gaurav/Documents/Python/data/YouTube(IN)/IN_youtube_trending_data.csv\") "
   ]
  },
  {
   "cell_type": "code",
   "execution_count": 65,
   "id": "96a7349f",
   "metadata": {},
   "outputs": [
    {
     "data": {
      "text/html": [
       "<div>\n",
       "<style scoped>\n",
       "    .dataframe tbody tr th:only-of-type {\n",
       "        vertical-align: middle;\n",
       "    }\n",
       "\n",
       "    .dataframe tbody tr th {\n",
       "        vertical-align: top;\n",
       "    }\n",
       "\n",
       "    .dataframe thead th {\n",
       "        text-align: right;\n",
       "    }\n",
       "</style>\n",
       "<table border=\"1\" class=\"dataframe\">\n",
       "  <thead>\n",
       "    <tr style=\"text-align: right;\">\n",
       "      <th></th>\n",
       "      <th>video_id</th>\n",
       "      <th>title</th>\n",
       "      <th>publishedAt</th>\n",
       "      <th>channelId</th>\n",
       "      <th>channelTitle</th>\n",
       "      <th>categoryId</th>\n",
       "      <th>trending_date</th>\n",
       "      <th>tags</th>\n",
       "      <th>view_count</th>\n",
       "      <th>likes</th>\n",
       "      <th>dislikes</th>\n",
       "      <th>comment_count</th>\n",
       "      <th>thumbnail_link</th>\n",
       "      <th>comments_disabled</th>\n",
       "      <th>ratings_disabled</th>\n",
       "      <th>description</th>\n",
       "    </tr>\n",
       "  </thead>\n",
       "  <tbody>\n",
       "    <tr>\n",
       "      <th>0</th>\n",
       "      <td>Iot0eF6EoNA</td>\n",
       "      <td>Sadak 2 | Official Trailer | Sanjay | Pooja | ...</td>\n",
       "      <td>2020-08-12T04:31:41Z</td>\n",
       "      <td>UCGqvJPRcv7aVFun-eTsatcA</td>\n",
       "      <td>FoxStarHindi</td>\n",
       "      <td>24</td>\n",
       "      <td>2020-08-12T00:00:00Z</td>\n",
       "      <td>sadak|sadak 2|mahesh bhatt|vishesh films|pooja...</td>\n",
       "      <td>9885899</td>\n",
       "      <td>224925</td>\n",
       "      <td>3979409</td>\n",
       "      <td>350210</td>\n",
       "      <td>https://i.ytimg.com/vi/Iot0eF6EoNA/default.jpg</td>\n",
       "      <td>False</td>\n",
       "      <td>False</td>\n",
       "      <td>Three Streams. Three Stories. One Journey. Sta...</td>\n",
       "    </tr>\n",
       "    <tr>\n",
       "      <th>1</th>\n",
       "      <td>x-KbnJ9fvJc</td>\n",
       "      <td>Kya Baat Aa : Karan Aujla (Official Video) Tan...</td>\n",
       "      <td>2020-08-11T09:00:11Z</td>\n",
       "      <td>UCm9SZAl03Rev9sFwloCdz1g</td>\n",
       "      <td>Rehaan Records</td>\n",
       "      <td>10</td>\n",
       "      <td>2020-08-12T00:00:00Z</td>\n",
       "      <td>[None]</td>\n",
       "      <td>11308046</td>\n",
       "      <td>655450</td>\n",
       "      <td>33242</td>\n",
       "      <td>405146</td>\n",
       "      <td>https://i.ytimg.com/vi/x-KbnJ9fvJc/default.jpg</td>\n",
       "      <td>False</td>\n",
       "      <td>False</td>\n",
       "      <td>Singer/Lyrics: Karan Aujla Feat Tania Music/ D...</td>\n",
       "    </tr>\n",
       "  </tbody>\n",
       "</table>\n",
       "</div>"
      ],
      "text/plain": [
       "      video_id                                              title  \\\n",
       "0  Iot0eF6EoNA  Sadak 2 | Official Trailer | Sanjay | Pooja | ...   \n",
       "1  x-KbnJ9fvJc  Kya Baat Aa : Karan Aujla (Official Video) Tan...   \n",
       "\n",
       "            publishedAt                 channelId    channelTitle  categoryId  \\\n",
       "0  2020-08-12T04:31:41Z  UCGqvJPRcv7aVFun-eTsatcA    FoxStarHindi          24   \n",
       "1  2020-08-11T09:00:11Z  UCm9SZAl03Rev9sFwloCdz1g  Rehaan Records          10   \n",
       "\n",
       "          trending_date                                               tags  \\\n",
       "0  2020-08-12T00:00:00Z  sadak|sadak 2|mahesh bhatt|vishesh films|pooja...   \n",
       "1  2020-08-12T00:00:00Z                                             [None]   \n",
       "\n",
       "   view_count   likes  dislikes  comment_count  \\\n",
       "0     9885899  224925   3979409         350210   \n",
       "1    11308046  655450     33242         405146   \n",
       "\n",
       "                                   thumbnail_link  comments_disabled  \\\n",
       "0  https://i.ytimg.com/vi/Iot0eF6EoNA/default.jpg              False   \n",
       "1  https://i.ytimg.com/vi/x-KbnJ9fvJc/default.jpg              False   \n",
       "\n",
       "   ratings_disabled                                        description  \n",
       "0             False  Three Streams. Three Stories. One Journey. Sta...  \n",
       "1             False  Singer/Lyrics: Karan Aujla Feat Tania Music/ D...  "
      ]
     },
     "execution_count": 65,
     "metadata": {},
     "output_type": "execute_result"
    }
   ],
   "source": [
    "df2.head(2)"
   ]
  },
  {
   "cell_type": "code",
   "execution_count": null,
   "id": "b01ca7bc",
   "metadata": {},
   "outputs": [],
   "source": [
    "#df1['items'].values.tolist()"
   ]
  },
  {
   "cell_type": "code",
   "execution_count": null,
   "id": "97b63a39",
   "metadata": {},
   "outputs": [],
   "source": [
    "df2.info()"
   ]
  },
  {
   "cell_type": "code",
   "execution_count": null,
   "id": "44b2ca34",
   "metadata": {},
   "outputs": [],
   "source": [
    "df2['publishedAt'].min()"
   ]
  },
  {
   "cell_type": "code",
   "execution_count": null,
   "id": "d49bb003",
   "metadata": {},
   "outputs": [],
   "source": [
    "df2['publishedAt'].max()"
   ]
  },
  {
   "cell_type": "code",
   "execution_count": null,
   "id": "4b580b79",
   "metadata": {},
   "outputs": [],
   "source": [
    "df2.describe()"
   ]
  },
  {
   "cell_type": "code",
   "execution_count": null,
   "id": "6c55570c",
   "metadata": {},
   "outputs": [],
   "source": [
    "df2[\"categoryId\"].nunique()"
   ]
  },
  {
   "cell_type": "code",
   "execution_count": null,
   "id": "7d53c69a",
   "metadata": {},
   "outputs": [],
   "source": [
    "df2[\"categoryId\"].unique()"
   ]
  },
  {
   "cell_type": "code",
   "execution_count": null,
   "id": "fb909257",
   "metadata": {},
   "outputs": [],
   "source": [
    "df2.shape"
   ]
  },
  {
   "cell_type": "code",
   "execution_count": null,
   "id": "05adfea3",
   "metadata": {},
   "outputs": [],
   "source": []
  },
  {
   "cell_type": "code",
   "execution_count": null,
   "id": "cd86a27e",
   "metadata": {},
   "outputs": [],
   "source": []
  },
  {
   "cell_type": "code",
   "execution_count": null,
   "id": "5f6d8770",
   "metadata": {},
   "outputs": [],
   "source": []
  },
  {
   "cell_type": "code",
   "execution_count": null,
   "id": "c9db8c7e",
   "metadata": {},
   "outputs": [],
   "source": [
    "import pandas as pd\n",
    "\n",
    "data1 = [\n",
    "\t{\"Roll no\": 1,\n",
    "\t\"student\": {\"first_name\": \"Ram\", \"last_name\": \"kumar\"}\n",
    "\t},\n",
    "\t{\"student\": {\"English\": \"95\", \"Math\": \"88\"}\n",
    "\t},\n",
    "\t{\"Roll no\": 2,\n",
    "\t\"student\": {\"first_name\": \"Joseph\", \"English\": \"90\", \"Science\": \"82\"}\n",
    "\t},\n",
    "\t{\"Roll no\": 3,\n",
    "\t\"student\": {\"first_name\": \"abinaya\", \"last_name\": \"devi\"},\n",
    "\t\"student\": {\"English\": \"91\", \"Math\": \"98\"}\n",
    "\t},\n",
    "]\n",
    "\n",
    "pd.DataFrame(data1)"
   ]
  },
  {
   "cell_type": "code",
   "execution_count": null,
   "id": "168931bc",
   "metadata": {},
   "outputs": [],
   "source": [
    "pd.json_normalize(data1)"
   ]
  },
  {
   "cell_type": "code",
   "execution_count": null,
   "id": "75690c4c",
   "metadata": {},
   "outputs": [],
   "source": [
    "pd.json_normalize(data1, max_level=1)"
   ]
  },
  {
   "cell_type": "code",
   "execution_count": null,
   "id": "9a2a91da",
   "metadata": {},
   "outputs": [],
   "source": [
    "import pandas as pd\n",
    "data2 = [\n",
    "\t{\n",
    "\t\t\"company\": \"Google\",\n",
    "\t\t\"tagline\": \"Dont be evil\",\n",
    "\t\t\"management\": {\"CEO\": \"Sundar Pichai\"},\n",
    "\t\t\"department\": [\n",
    "\t\t\t{\"name\": \"Gmail\", \"revenue (bn)\": 123},\n",
    "\t\t\t{\"name\": \"GCP\", \"revenue (bn)\": 400},\n",
    "\t\t\t{\"name\": \"Google drive\", \"revenue (bn)\": 600},\n",
    "\t\t],\n",
    "\t},\n",
    "\t{\n",
    "\t\t\"company\": \"Microsoft\",\n",
    "\t\t\"tagline\": \"Be What's Next\",\n",
    "\t\t\"management\": {\"CEO\": \"Satya Nadella\"},\n",
    "\t\t\"department\": [\n",
    "\t\t\t{\"name\": \"Onedrive\", \"revenue (bn)\": 13},\n",
    "\t\t\t{\"name\": \"Azure\", \"revenue (bn)\": 300},\n",
    "\t\t\t{\"name\": \"Microsoft 365\", \"revenue (bn)\": 300},\n",
    "\t\t],\n",
    "\t},\n",
    "\n",
    "]\n",
    "result = pd.json_normalize(\n",
    "\tdata2, \"department\", [\"company\", \"tagline\", [\"management\", \"CEO\"]]\n",
    ")\n",
    "result"
   ]
  },
  {
   "cell_type": "code",
   "execution_count": null,
   "id": "6c45311a",
   "metadata": {},
   "outputs": [],
   "source": [
    "pd.DataFrame(data2)"
   ]
  },
  {
   "cell_type": "code",
   "execution_count": null,
   "id": "96735be2",
   "metadata": {},
   "outputs": [],
   "source": [
    "test = {\n",
    "    \"kind\": \"youtube#videoCategoryListResponse\",\n",
    "    \"etag\": \"kBCr3I9kLHHU79W4Ip5196LDptI\",\n",
    "    \"items\": [\n",
    "        {\n",
    "            \"kind\": \"youtube#videoCategory\",\n",
    "            \"etag\": \"IfWa37JGcqZs-jZeAyFGkbeh6bc\",\n",
    "            \"id\": \"1\",\n",
    "            \"snippet\": {\n",
    "                \"title\": \"Film & Animation\",\n",
    "                \"assignable\": 'true',\n",
    "                \"channelId\": \"UCBR8-60-B28hp2BmDPdntcQ\"\n",
    "              \n",
    "            }\n",
    "        }\n",
    "    ]\n",
    "}\n",
    "\n",
    "test_df = pd.DataFrame(test)\n",
    "test_df"
   ]
  },
  {
   "cell_type": "code",
   "execution_count": null,
   "id": "5f0bb25c",
   "metadata": {},
   "outputs": [],
   "source": [
    "pd.json_normalize(test)"
   ]
  },
  {
   "cell_type": "code",
   "execution_count": null,
   "id": "e35988bf",
   "metadata": {},
   "outputs": [],
   "source": [
    "# Flatten items\n",
    "pd.json_normalize(test, record_path=['items'])"
   ]
  },
  {
   "cell_type": "code",
   "execution_count": null,
   "id": "cf060805",
   "metadata": {},
   "outputs": [],
   "source": []
  }
 ],
 "metadata": {
  "kernelspec": {
   "display_name": "Python 3 (ipykernel)",
   "language": "python",
   "name": "python3"
  },
  "language_info": {
   "codemirror_mode": {
    "name": "ipython",
    "version": 3
   },
   "file_extension": ".py",
   "mimetype": "text/x-python",
   "name": "python",
   "nbconvert_exporter": "python",
   "pygments_lexer": "ipython3",
   "version": "3.10.6"
  }
 },
 "nbformat": 4,
 "nbformat_minor": 5
}
